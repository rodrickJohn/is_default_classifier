{
 "cells": [
  {
   "cell_type": "markdown",
   "metadata": {},
   "source": [
    "### Part A: General descriptive analysis on our data"
   ]
  },
  {
   "cell_type": "markdown",
   "metadata": {},
   "source": [
    "<strong>Background:</strong> Cluster analysis is usually a multivariate technique. Using k-means and similar techniques maybe  challenging for univariate data.\n",
    "For that case we are going to employ <strong><i>Jenks natural breaks optimization</strong></i> technique which is a data clustering method designed to determine the best arrangement of values into different classes. \n",
    "This is done by seeking to minimize each class's average deviation from the class mean, while maximizing each class's deviation from the means of the other groups."
   ]
  },
  {
   "cell_type": "code",
   "execution_count": 1,
   "metadata": {},
   "outputs": [],
   "source": [
    "# importing packages\n",
    "\n",
    "import numpy as np\n",
    "import pandas as pd"
   ]
  },
  {
   "cell_type": "code",
   "execution_count": 2,
   "metadata": {},
   "outputs": [],
   "source": [
    "df=pd.read_csv(\"../file_2.csv\")"
   ]
  },
  {
   "cell_type": "code",
   "execution_count": 3,
   "metadata": {},
   "outputs": [
    {
     "data": {
      "text/html": [
       "<div>\n",
       "<style scoped>\n",
       "    .dataframe tbody tr th:only-of-type {\n",
       "        vertical-align: middle;\n",
       "    }\n",
       "\n",
       "    .dataframe tbody tr th {\n",
       "        vertical-align: top;\n",
       "    }\n",
       "\n",
       "    .dataframe thead th {\n",
       "        text-align: right;\n",
       "    }\n",
       "</style>\n",
       "<table border=\"1\" class=\"dataframe\">\n",
       "  <thead>\n",
       "    <tr style=\"text-align: right;\">\n",
       "      <th></th>\n",
       "      <th>tenure month</th>\n",
       "      <th>loan fee</th>\n",
       "      <th>loan</th>\n",
       "      <th>mobile transactions</th>\n",
       "      <th>mobile transactions value</th>\n",
       "      <th>mobile services</th>\n",
       "      <th>app users</th>\n",
       "      <th>TOTAL_INFLOW</th>\n",
       "      <th>SALARY_STATUS</th>\n",
       "      <th>TOTAL_OUTFLOW</th>\n",
       "      <th>age</th>\n",
       "      <th>gender</th>\n",
       "      <th>is_default</th>\n",
       "    </tr>\n",
       "  </thead>\n",
       "  <tbody>\n",
       "    <tr>\n",
       "      <td>0</td>\n",
       "      <td>5</td>\n",
       "      <td>4.7</td>\n",
       "      <td>10680.0</td>\n",
       "      <td>0</td>\n",
       "      <td>0.0</td>\n",
       "      <td>0</td>\n",
       "      <td>0</td>\n",
       "      <td>0</td>\n",
       "      <td>0</td>\n",
       "      <td>0</td>\n",
       "      <td>25</td>\n",
       "      <td>M</td>\n",
       "      <td>Y</td>\n",
       "    </tr>\n",
       "    <tr>\n",
       "      <td>1</td>\n",
       "      <td>21</td>\n",
       "      <td>9.6</td>\n",
       "      <td>9120.0</td>\n",
       "      <td>13</td>\n",
       "      <td>2922000.0</td>\n",
       "      <td>3</td>\n",
       "      <td>0</td>\n",
       "      <td>3000000</td>\n",
       "      <td>0</td>\n",
       "      <td>2994764</td>\n",
       "      <td>36</td>\n",
       "      <td>M</td>\n",
       "      <td>N</td>\n",
       "    </tr>\n",
       "    <tr>\n",
       "      <td>2</td>\n",
       "      <td>28</td>\n",
       "      <td>10.9</td>\n",
       "      <td>57900.0</td>\n",
       "      <td>0</td>\n",
       "      <td>0.0</td>\n",
       "      <td>0</td>\n",
       "      <td>0</td>\n",
       "      <td>0</td>\n",
       "      <td>0</td>\n",
       "      <td>502900</td>\n",
       "      <td>25</td>\n",
       "      <td>M</td>\n",
       "      <td>Y</td>\n",
       "    </tr>\n",
       "  </tbody>\n",
       "</table>\n",
       "</div>"
      ],
      "text/plain": [
       "   tenure month  loan fee     loan  mobile transactions  \\\n",
       "0             5       4.7  10680.0                    0   \n",
       "1            21       9.6   9120.0                   13   \n",
       "2            28      10.9  57900.0                    0   \n",
       "\n",
       "   mobile transactions value  mobile services  app users  TOTAL_INFLOW  \\\n",
       "0                        0.0                0          0             0   \n",
       "1                  2922000.0                3          0       3000000   \n",
       "2                        0.0                0          0             0   \n",
       "\n",
       "   SALARY_STATUS  TOTAL_OUTFLOW  age gender is_default  \n",
       "0              0              0   25      M          Y  \n",
       "1              0        2994764   36      M          N  \n",
       "2              0         502900   25      M          Y  "
      ]
     },
     "execution_count": 3,
     "metadata": {},
     "output_type": "execute_result"
    }
   ],
   "source": [
    "df.head(3)"
   ]
  },
  {
   "cell_type": "code",
   "execution_count": 4,
   "metadata": {},
   "outputs": [
    {
     "data": {
      "text/plain": [
       "Index(['tenure month', 'loan fee', 'loan', 'mobile transactions',\n",
       "       'mobile transactions value', 'mobile services', 'app users',\n",
       "       'TOTAL_INFLOW', 'SALARY_STATUS', 'TOTAL_OUTFLOW', 'age', 'gender',\n",
       "       'is_default'],\n",
       "      dtype='object')"
      ]
     },
     "execution_count": 4,
     "metadata": {},
     "output_type": "execute_result"
    }
   ],
   "source": [
    "df.columns"
   ]
  },
  {
   "cell_type": "code",
   "execution_count": 5,
   "metadata": {},
   "outputs": [],
   "source": [
    "#Import Jenks from Jenkspy\n",
    "import jenkspy"
   ]
  },
  {
   "cell_type": "code",
   "execution_count": 6,
   "metadata": {},
   "outputs": [],
   "source": [
    "# For each feature we will need to update the name here then run the next cell to get breakpoints\n",
    "\n",
    "Qty_array = df['age'].to_numpy()\n",
    "\n",
    "def goodness_of_variance_fit(array, classes):\n",
    "    # get the break points\n",
    "    classes =  jenkspy.jenks_breaks(array, classes)\n",
    "\n",
    "    # do the actual classification\n",
    "    classified = np.array([classify(i, classes) for i in array])\n",
    "\n",
    "    # max value of zones\n",
    "    maxz = max(classified)\n",
    "\n",
    "    # nested list of zone indices\n",
    "    zone_indices = [[idx for idx, val in enumerate(classified) if zone + 1 == val] for zone in range(maxz)]\n",
    "\n",
    "    # sum of squared deviations from array mean\n",
    "    sdam = np.sum((array - array.mean()) ** 2)\n",
    "\n",
    "    # sorted polygon stats\n",
    "    array_sort = [np.array([array[index] for index in zone]) for zone in zone_indices]\n",
    "\n",
    "    # sum of squared deviations of class means\n",
    "    sdcm = sum([np.sum((classified - classified.mean()) ** 2) for classified in array_sort])\n",
    "\n",
    "    # goodness of variance fit\n",
    "    gvf = (sdam - sdcm) / sdam\n",
    "\n",
    "    return classes\n",
    "\n",
    "def classify(value, breaks):\n",
    "    for i in range(1, len(breaks)):\n",
    "        if value < breaks[i]:\n",
    "            return i\n",
    "    return len(breaks) - 1"
   ]
  },
  {
   "cell_type": "code",
   "execution_count": 7,
   "metadata": {},
   "outputs": [
    {
     "data": {
      "text/plain": [
       "[19, 30, 41, 60]"
      ]
     },
     "execution_count": 7,
     "metadata": {},
     "output_type": "execute_result"
    }
   ],
   "source": [
    "# Determine breakpoints\n",
    "goodness_of_variance_fit(Qty_array, classes=3)"
   ]
  },
  {
   "cell_type": "markdown",
   "metadata": {},
   "source": []
  }
 ],
 "metadata": {
  "kernelspec": {
   "display_name": "Python 3",
   "language": "python",
   "name": "python3"
  },
  "language_info": {
   "codemirror_mode": {
    "name": "ipython",
    "version": 3
   },
   "file_extension": ".py",
   "mimetype": "text/x-python",
   "name": "python",
   "nbconvert_exporter": "python",
   "pygments_lexer": "ipython3",
   "version": "3.7.4"
  }
 },
 "nbformat": 4,
 "nbformat_minor": 2
}
