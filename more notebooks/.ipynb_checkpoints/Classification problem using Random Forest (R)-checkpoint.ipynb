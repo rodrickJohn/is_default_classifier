{
 "cells": [
  {
   "cell_type": "markdown",
   "metadata": {},
   "source": [
    "<strong>Objective:</strong> To train a Random Forest Model on a dataset to counter check performance of a Logistic Regression model on the same"
   ]
  },
  {
   "cell_type": "markdown",
   "metadata": {},
   "source": [
    "### Importing data"
   ]
  },
  {
   "cell_type": "code",
   "execution_count": 1,
   "metadata": {},
   "outputs": [],
   "source": [
    "#listing important packages needed \n",
    "\n",
    "required.packages <- required.packages <- c(\"RODBC\", \"tidyverse\", \"randomForest\", \"ggcorrplot\", \"caret\", \"mltools\", \"data.table\", \"pROC\", \"cenROC\")"
   ]
  },
  {
   "cell_type": "code",
   "execution_count": 2,
   "metadata": {},
   "outputs": [
    {
     "name": "stderr",
     "output_type": "stream",
     "text": [
      "Loading required package: RODBC\n",
      "\n",
      "Loading required package: tidyverse\n",
      "\n",
      "-- \u001b[1mAttaching packages\u001b[22m ------------------------------------------------------------------------------- tidyverse 1.3.1 --\n",
      "\n",
      "\u001b[32mv\u001b[39m \u001b[34mggplot2\u001b[39m 3.3.5     \u001b[32mv\u001b[39m \u001b[34mpurrr  \u001b[39m 0.3.4\n",
      "\u001b[32mv\u001b[39m \u001b[34mtibble \u001b[39m 3.1.6     \u001b[32mv\u001b[39m \u001b[34mdplyr  \u001b[39m 1.0.8\n",
      "\u001b[32mv\u001b[39m \u001b[34mtidyr  \u001b[39m 1.2.0     \u001b[32mv\u001b[39m \u001b[34mstringr\u001b[39m 1.4.0\n",
      "\u001b[32mv\u001b[39m \u001b[34mreadr  \u001b[39m 2.1.2     \u001b[32mv\u001b[39m \u001b[34mforcats\u001b[39m 0.5.1\n",
      "\n",
      "-- \u001b[1mConflicts\u001b[22m ---------------------------------------------------------------------------------- tidyverse_conflicts() --\n",
      "\u001b[31mx\u001b[39m \u001b[34mdplyr\u001b[39m::\u001b[32mfilter()\u001b[39m masks \u001b[34mstats\u001b[39m::filter()\n",
      "\u001b[31mx\u001b[39m \u001b[34mdplyr\u001b[39m::\u001b[32mlag()\u001b[39m    masks \u001b[34mstats\u001b[39m::lag()\n",
      "\n",
      "Loading required package: randomForest\n",
      "\n",
      "randomForest 4.7-1\n",
      "\n",
      "Type rfNews() to see new features/changes/bug fixes.\n",
      "\n",
      "\n",
      "Attaching package: 'randomForest'\n",
      "\n",
      "\n",
      "The following object is masked from 'package:dplyr':\n",
      "\n",
      "    combine\n",
      "\n",
      "\n",
      "The following object is masked from 'package:ggplot2':\n",
      "\n",
      "    margin\n",
      "\n",
      "\n",
      "Loading required package: ggcorrplot\n",
      "\n",
      "Loading required package: caret\n",
      "\n",
      "Loading required package: lattice\n",
      "\n",
      "\n",
      "Attaching package: 'caret'\n",
      "\n",
      "\n",
      "The following object is masked from 'package:purrr':\n",
      "\n",
      "    lift\n",
      "\n",
      "\n",
      "Loading required package: mltools\n",
      "\n",
      "\n",
      "Attaching package: 'mltools'\n",
      "\n",
      "\n",
      "The following object is masked from 'package:tidyr':\n",
      "\n",
      "    replace_na\n",
      "\n",
      "\n",
      "Loading required package: data.table\n",
      "\n",
      "\n",
      "Attaching package: 'data.table'\n",
      "\n",
      "\n",
      "The following objects are masked from 'package:dplyr':\n",
      "\n",
      "    between, first, last\n",
      "\n",
      "\n",
      "The following object is masked from 'package:purrr':\n",
      "\n",
      "    transpose\n",
      "\n",
      "\n",
      "Loading required package: pROC\n",
      "\n",
      "Type 'citation(\"pROC\")' for a citation.\n",
      "\n",
      "\n",
      "Attaching package: 'pROC'\n",
      "\n",
      "\n",
      "The following objects are masked from 'package:stats':\n",
      "\n",
      "    cov, smooth, var\n",
      "\n",
      "\n",
      "Loading required package: cenROC\n",
      "\n"
     ]
    },
    {
     "data": {
      "text/html": [
       "<style>\n",
       ".dl-inline {width: auto; margin:0; padding: 0}\n",
       ".dl-inline>dt, .dl-inline>dd {float: none; width: auto; display: inline-block}\n",
       ".dl-inline>dt::after {content: \":\\0020\"; padding-right: .5ex}\n",
       ".dl-inline>dt:not(:first-of-type) {padding-left: .5ex}\n",
       "</style><dl class=dl-inline><dt>RODBC</dt><dd>TRUE</dd><dt>tidyverse</dt><dd>TRUE</dd><dt>randomForest</dt><dd>TRUE</dd><dt>ggcorrplot</dt><dd>TRUE</dd><dt>caret</dt><dd>TRUE</dd><dt>mltools</dt><dd>TRUE</dd><dt>data.table</dt><dd>TRUE</dd><dt>pROC</dt><dd>TRUE</dd><dt>cenROC</dt><dd>TRUE</dd></dl>\n"
      ],
      "text/latex": [
       "\\begin{description*}\n",
       "\\item[RODBC] TRUE\n",
       "\\item[tidyverse] TRUE\n",
       "\\item[randomForest] TRUE\n",
       "\\item[ggcorrplot] TRUE\n",
       "\\item[caret] TRUE\n",
       "\\item[mltools] TRUE\n",
       "\\item[data.table] TRUE\n",
       "\\item[pROC] TRUE\n",
       "\\item[cenROC] TRUE\n",
       "\\end{description*}\n"
      ],
      "text/markdown": [
       "RODBC\n",
       ":   TRUEtidyverse\n",
       ":   TRUErandomForest\n",
       ":   TRUEggcorrplot\n",
       ":   TRUEcaret\n",
       ":   TRUEmltools\n",
       ":   TRUEdata.table\n",
       ":   TRUEpROC\n",
       ":   TRUEcenROC\n",
       ":   TRUE\n",
       "\n"
      ],
      "text/plain": [
       "       RODBC    tidyverse randomForest   ggcorrplot        caret      mltools \n",
       "        TRUE         TRUE         TRUE         TRUE         TRUE         TRUE \n",
       "  data.table         pROC       cenROC \n",
       "        TRUE         TRUE         TRUE "
      ]
     },
     "metadata": {},
     "output_type": "display_data"
    }
   ],
   "source": [
    "#verify if all above packages are contained in the list of installed packages for our R environment\n",
    "missing.packages <- required.packages[!(required.packages %in% installed.packages()[,\"Package\"])]\n",
    "if(length(new.packages)>0) install.packages(missing.packages, dependencies = TRUE)\n",
    "#loading packages\n",
    "sapply(required.packages, require, character.only = TRUE)"
   ]
  },
  {
   "cell_type": "code",
   "execution_count": 3,
   "metadata": {},
   "outputs": [],
   "source": [
    "data <- read.csv('../file_2.csv')"
   ]
  },
  {
   "cell_type": "code",
   "execution_count": 4,
   "metadata": {},
   "outputs": [
    {
     "data": {
      "text/html": [
       "<table class=\"dataframe\">\n",
       "<caption>A data.frame: 3 × 13</caption>\n",
       "<thead>\n",
       "\t<tr><th></th><th scope=col>ï..tenure.month</th><th scope=col>loan.fee</th><th scope=col>loan</th><th scope=col>mobile.transactions</th><th scope=col>mobile.transactions.value</th><th scope=col>mobile.services</th><th scope=col>app.users</th><th scope=col>TOTAL_INFLOW</th><th scope=col>SALARY_STATUS</th><th scope=col>TOTAL_OUTFLOW</th><th scope=col>age</th><th scope=col>gender</th><th scope=col>is_default</th></tr>\n",
       "\t<tr><th></th><th scope=col>&lt;int&gt;</th><th scope=col>&lt;dbl&gt;</th><th scope=col>&lt;dbl&gt;</th><th scope=col>&lt;int&gt;</th><th scope=col>&lt;dbl&gt;</th><th scope=col>&lt;int&gt;</th><th scope=col>&lt;int&gt;</th><th scope=col>&lt;int&gt;</th><th scope=col>&lt;int&gt;</th><th scope=col>&lt;int&gt;</th><th scope=col>&lt;int&gt;</th><th scope=col>&lt;chr&gt;</th><th scope=col>&lt;chr&gt;</th></tr>\n",
       "</thead>\n",
       "<tbody>\n",
       "\t<tr><th scope=row>1</th><td> 5</td><td> 4.7</td><td>10680</td><td> 0</td><td>      0</td><td>0</td><td>0</td><td>      0</td><td>0</td><td>      0</td><td>25</td><td>M</td><td>Y</td></tr>\n",
       "\t<tr><th scope=row>2</th><td>21</td><td> 9.6</td><td> 9120</td><td>13</td><td>2922000</td><td>3</td><td>0</td><td>3000000</td><td>0</td><td>2994764</td><td>36</td><td>M</td><td>N</td></tr>\n",
       "\t<tr><th scope=row>3</th><td>28</td><td>10.9</td><td>57900</td><td> 0</td><td>      0</td><td>0</td><td>0</td><td>      0</td><td>0</td><td> 502900</td><td>25</td><td>M</td><td>Y</td></tr>\n",
       "</tbody>\n",
       "</table>\n"
      ],
      "text/latex": [
       "A data.frame: 3 × 13\n",
       "\\begin{tabular}{r|lllllllllllll}\n",
       "  & ï..tenure.month & loan.fee & loan & mobile.transactions & mobile.transactions.value & mobile.services & app.users & TOTAL\\_INFLOW & SALARY\\_STATUS & TOTAL\\_OUTFLOW & age & gender & is\\_default\\\\\n",
       "  & <int> & <dbl> & <dbl> & <int> & <dbl> & <int> & <int> & <int> & <int> & <int> & <int> & <chr> & <chr>\\\\\n",
       "\\hline\n",
       "\t1 &  5 &  4.7 & 10680 &  0 &       0 & 0 & 0 &       0 & 0 &       0 & 25 & M & Y\\\\\n",
       "\t2 & 21 &  9.6 &  9120 & 13 & 2922000 & 3 & 0 & 3000000 & 0 & 2994764 & 36 & M & N\\\\\n",
       "\t3 & 28 & 10.9 & 57900 &  0 &       0 & 0 & 0 &       0 & 0 &  502900 & 25 & M & Y\\\\\n",
       "\\end{tabular}\n"
      ],
      "text/markdown": [
       "\n",
       "A data.frame: 3 × 13\n",
       "\n",
       "| <!--/--> | ï..tenure.month &lt;int&gt; | loan.fee &lt;dbl&gt; | loan &lt;dbl&gt; | mobile.transactions &lt;int&gt; | mobile.transactions.value &lt;dbl&gt; | mobile.services &lt;int&gt; | app.users &lt;int&gt; | TOTAL_INFLOW &lt;int&gt; | SALARY_STATUS &lt;int&gt; | TOTAL_OUTFLOW &lt;int&gt; | age &lt;int&gt; | gender &lt;chr&gt; | is_default &lt;chr&gt; |\n",
       "|---|---|---|---|---|---|---|---|---|---|---|---|---|---|\n",
       "| 1 |  5 |  4.7 | 10680 |  0 |       0 | 0 | 0 |       0 | 0 |       0 | 25 | M | Y |\n",
       "| 2 | 21 |  9.6 |  9120 | 13 | 2922000 | 3 | 0 | 3000000 | 0 | 2994764 | 36 | M | N |\n",
       "| 3 | 28 | 10.9 | 57900 |  0 |       0 | 0 | 0 |       0 | 0 |  502900 | 25 | M | Y |\n",
       "\n"
      ],
      "text/plain": [
       "  ï..tenure.month loan.fee loan  mobile.transactions mobile.transactions.value\n",
       "1  5               4.7     10680  0                        0                  \n",
       "2 21               9.6      9120 13                  2922000                  \n",
       "3 28              10.9     57900  0                        0                  \n",
       "  mobile.services app.users TOTAL_INFLOW SALARY_STATUS TOTAL_OUTFLOW age gender\n",
       "1 0               0               0      0                   0       25  M     \n",
       "2 3               0         3000000      0             2994764       36  M     \n",
       "3 0               0               0      0              502900       25  M     \n",
       "  is_default\n",
       "1 Y         \n",
       "2 N         \n",
       "3 Y         "
      ]
     },
     "metadata": {},
     "output_type": "display_data"
    }
   ],
   "source": [
    "head(data,3)"
   ]
  },
  {
   "cell_type": "markdown",
   "metadata": {},
   "source": [
    "### Tidying Up our data"
   ]
  },
  {
   "cell_type": "code",
   "execution_count": 5,
   "metadata": {},
   "outputs": [],
   "source": [
    "names(data) <- toupper(names(data))"
   ]
  },
  {
   "cell_type": "code",
   "execution_count": 6,
   "metadata": {},
   "outputs": [],
   "source": [
    "names(data)[names(data)=='Ï..TENURE.MONTH'] <- c('TENURE.MONTH')"
   ]
  },
  {
   "cell_type": "code",
   "execution_count": 7,
   "metadata": {},
   "outputs": [
    {
     "data": {
      "text/html": [
       "<table class=\"dataframe\">\n",
       "<caption>A data.frame: 3 × 13</caption>\n",
       "<thead>\n",
       "\t<tr><th></th><th scope=col>TENURE.MONTH</th><th scope=col>LOAN.FEE</th><th scope=col>LOAN</th><th scope=col>MOBILE.TRANSACTIONS</th><th scope=col>MOBILE.TRANSACTIONS.VALUE</th><th scope=col>MOBILE.SERVICES</th><th scope=col>APP.USERS</th><th scope=col>TOTAL_INFLOW</th><th scope=col>SALARY_STATUS</th><th scope=col>TOTAL_OUTFLOW</th><th scope=col>AGE</th><th scope=col>GENDER</th><th scope=col>IS_DEFAULT</th></tr>\n",
       "\t<tr><th></th><th scope=col>&lt;int&gt;</th><th scope=col>&lt;dbl&gt;</th><th scope=col>&lt;dbl&gt;</th><th scope=col>&lt;int&gt;</th><th scope=col>&lt;dbl&gt;</th><th scope=col>&lt;int&gt;</th><th scope=col>&lt;int&gt;</th><th scope=col>&lt;int&gt;</th><th scope=col>&lt;int&gt;</th><th scope=col>&lt;int&gt;</th><th scope=col>&lt;int&gt;</th><th scope=col>&lt;chr&gt;</th><th scope=col>&lt;chr&gt;</th></tr>\n",
       "</thead>\n",
       "<tbody>\n",
       "\t<tr><th scope=row>1</th><td> 5</td><td> 4.7</td><td>10680</td><td> 0</td><td>      0</td><td>0</td><td>0</td><td>      0</td><td>0</td><td>      0</td><td>25</td><td>M</td><td>Y</td></tr>\n",
       "\t<tr><th scope=row>2</th><td>21</td><td> 9.6</td><td> 9120</td><td>13</td><td>2922000</td><td>3</td><td>0</td><td>3000000</td><td>0</td><td>2994764</td><td>36</td><td>M</td><td>N</td></tr>\n",
       "\t<tr><th scope=row>3</th><td>28</td><td>10.9</td><td>57900</td><td> 0</td><td>      0</td><td>0</td><td>0</td><td>      0</td><td>0</td><td> 502900</td><td>25</td><td>M</td><td>Y</td></tr>\n",
       "</tbody>\n",
       "</table>\n"
      ],
      "text/latex": [
       "A data.frame: 3 × 13\n",
       "\\begin{tabular}{r|lllllllllllll}\n",
       "  & TENURE.MONTH & LOAN.FEE & LOAN & MOBILE.TRANSACTIONS & MOBILE.TRANSACTIONS.VALUE & MOBILE.SERVICES & APP.USERS & TOTAL\\_INFLOW & SALARY\\_STATUS & TOTAL\\_OUTFLOW & AGE & GENDER & IS\\_DEFAULT\\\\\n",
       "  & <int> & <dbl> & <dbl> & <int> & <dbl> & <int> & <int> & <int> & <int> & <int> & <int> & <chr> & <chr>\\\\\n",
       "\\hline\n",
       "\t1 &  5 &  4.7 & 10680 &  0 &       0 & 0 & 0 &       0 & 0 &       0 & 25 & M & Y\\\\\n",
       "\t2 & 21 &  9.6 &  9120 & 13 & 2922000 & 3 & 0 & 3000000 & 0 & 2994764 & 36 & M & N\\\\\n",
       "\t3 & 28 & 10.9 & 57900 &  0 &       0 & 0 & 0 &       0 & 0 &  502900 & 25 & M & Y\\\\\n",
       "\\end{tabular}\n"
      ],
      "text/markdown": [
       "\n",
       "A data.frame: 3 × 13\n",
       "\n",
       "| <!--/--> | TENURE.MONTH &lt;int&gt; | LOAN.FEE &lt;dbl&gt; | LOAN &lt;dbl&gt; | MOBILE.TRANSACTIONS &lt;int&gt; | MOBILE.TRANSACTIONS.VALUE &lt;dbl&gt; | MOBILE.SERVICES &lt;int&gt; | APP.USERS &lt;int&gt; | TOTAL_INFLOW &lt;int&gt; | SALARY_STATUS &lt;int&gt; | TOTAL_OUTFLOW &lt;int&gt; | AGE &lt;int&gt; | GENDER &lt;chr&gt; | IS_DEFAULT &lt;chr&gt; |\n",
       "|---|---|---|---|---|---|---|---|---|---|---|---|---|---|\n",
       "| 1 |  5 |  4.7 | 10680 |  0 |       0 | 0 | 0 |       0 | 0 |       0 | 25 | M | Y |\n",
       "| 2 | 21 |  9.6 |  9120 | 13 | 2922000 | 3 | 0 | 3000000 | 0 | 2994764 | 36 | M | N |\n",
       "| 3 | 28 | 10.9 | 57900 |  0 |       0 | 0 | 0 |       0 | 0 |  502900 | 25 | M | Y |\n",
       "\n"
      ],
      "text/plain": [
       "  TENURE.MONTH LOAN.FEE LOAN  MOBILE.TRANSACTIONS MOBILE.TRANSACTIONS.VALUE\n",
       "1  5            4.7     10680  0                        0                  \n",
       "2 21            9.6      9120 13                  2922000                  \n",
       "3 28           10.9     57900  0                        0                  \n",
       "  MOBILE.SERVICES APP.USERS TOTAL_INFLOW SALARY_STATUS TOTAL_OUTFLOW AGE GENDER\n",
       "1 0               0               0      0                   0       25  M     \n",
       "2 3               0         3000000      0             2994764       36  M     \n",
       "3 0               0               0      0              502900       25  M     \n",
       "  IS_DEFAULT\n",
       "1 Y         \n",
       "2 N         \n",
       "3 Y         "
      ]
     },
     "metadata": {},
     "output_type": "display_data"
    }
   ],
   "source": [
    "head(data,3)"
   ]
  },
  {
   "cell_type": "code",
   "execution_count": 8,
   "metadata": {},
   "outputs": [],
   "source": [
    "names(data) <- gsub('\\\\.', '_', names(data))"
   ]
  },
  {
   "cell_type": "code",
   "execution_count": 9,
   "metadata": {},
   "outputs": [
    {
     "data": {
      "text/plain": [
       "\n",
       "   N    Y \n",
       "5391 5619 "
      ]
     },
     "metadata": {},
     "output_type": "display_data"
    }
   ],
   "source": [
    "table(data$IS_DEFAULT)"
   ]
  },
  {
   "cell_type": "code",
   "execution_count": 10,
   "metadata": {},
   "outputs": [
    {
     "data": {
      "text/html": [
       "<table class=\"dataframe\">\n",
       "<caption>A data.frame: 3 × 13</caption>\n",
       "<thead>\n",
       "\t<tr><th></th><th scope=col>TENURE_MONTH</th><th scope=col>LOAN_FEE</th><th scope=col>LOAN</th><th scope=col>MOBILE_TRANSACTIONS</th><th scope=col>MOBILE_TRANSACTIONS_VALUE</th><th scope=col>MOBILE_SERVICES</th><th scope=col>APP_USERS</th><th scope=col>TOTAL_INFLOW</th><th scope=col>SALARY_STATUS</th><th scope=col>TOTAL_OUTFLOW</th><th scope=col>AGE</th><th scope=col>GENDER</th><th scope=col>IS_DEFAULT</th></tr>\n",
       "\t<tr><th></th><th scope=col>&lt;int&gt;</th><th scope=col>&lt;dbl&gt;</th><th scope=col>&lt;dbl&gt;</th><th scope=col>&lt;int&gt;</th><th scope=col>&lt;dbl&gt;</th><th scope=col>&lt;int&gt;</th><th scope=col>&lt;int&gt;</th><th scope=col>&lt;int&gt;</th><th scope=col>&lt;int&gt;</th><th scope=col>&lt;int&gt;</th><th scope=col>&lt;int&gt;</th><th scope=col>&lt;chr&gt;</th><th scope=col>&lt;chr&gt;</th></tr>\n",
       "</thead>\n",
       "<tbody>\n",
       "\t<tr><th scope=row>1</th><td> 5</td><td> 4.7</td><td>10680</td><td> 0</td><td>      0</td><td>0</td><td>0</td><td>      0</td><td>0</td><td>      0</td><td>25</td><td>M</td><td>Y</td></tr>\n",
       "\t<tr><th scope=row>2</th><td>21</td><td> 9.6</td><td> 9120</td><td>13</td><td>2922000</td><td>3</td><td>0</td><td>3000000</td><td>0</td><td>2994764</td><td>36</td><td>M</td><td>N</td></tr>\n",
       "\t<tr><th scope=row>3</th><td>28</td><td>10.9</td><td>57900</td><td> 0</td><td>      0</td><td>0</td><td>0</td><td>      0</td><td>0</td><td> 502900</td><td>25</td><td>M</td><td>Y</td></tr>\n",
       "</tbody>\n",
       "</table>\n"
      ],
      "text/latex": [
       "A data.frame: 3 × 13\n",
       "\\begin{tabular}{r|lllllllllllll}\n",
       "  & TENURE\\_MONTH & LOAN\\_FEE & LOAN & MOBILE\\_TRANSACTIONS & MOBILE\\_TRANSACTIONS\\_VALUE & MOBILE\\_SERVICES & APP\\_USERS & TOTAL\\_INFLOW & SALARY\\_STATUS & TOTAL\\_OUTFLOW & AGE & GENDER & IS\\_DEFAULT\\\\\n",
       "  & <int> & <dbl> & <dbl> & <int> & <dbl> & <int> & <int> & <int> & <int> & <int> & <int> & <chr> & <chr>\\\\\n",
       "\\hline\n",
       "\t1 &  5 &  4.7 & 10680 &  0 &       0 & 0 & 0 &       0 & 0 &       0 & 25 & M & Y\\\\\n",
       "\t2 & 21 &  9.6 &  9120 & 13 & 2922000 & 3 & 0 & 3000000 & 0 & 2994764 & 36 & M & N\\\\\n",
       "\t3 & 28 & 10.9 & 57900 &  0 &       0 & 0 & 0 &       0 & 0 &  502900 & 25 & M & Y\\\\\n",
       "\\end{tabular}\n"
      ],
      "text/markdown": [
       "\n",
       "A data.frame: 3 × 13\n",
       "\n",
       "| <!--/--> | TENURE_MONTH &lt;int&gt; | LOAN_FEE &lt;dbl&gt; | LOAN &lt;dbl&gt; | MOBILE_TRANSACTIONS &lt;int&gt; | MOBILE_TRANSACTIONS_VALUE &lt;dbl&gt; | MOBILE_SERVICES &lt;int&gt; | APP_USERS &lt;int&gt; | TOTAL_INFLOW &lt;int&gt; | SALARY_STATUS &lt;int&gt; | TOTAL_OUTFLOW &lt;int&gt; | AGE &lt;int&gt; | GENDER &lt;chr&gt; | IS_DEFAULT &lt;chr&gt; |\n",
       "|---|---|---|---|---|---|---|---|---|---|---|---|---|---|\n",
       "| 1 |  5 |  4.7 | 10680 |  0 |       0 | 0 | 0 |       0 | 0 |       0 | 25 | M | Y |\n",
       "| 2 | 21 |  9.6 |  9120 | 13 | 2922000 | 3 | 0 | 3000000 | 0 | 2994764 | 36 | M | N |\n",
       "| 3 | 28 | 10.9 | 57900 |  0 |       0 | 0 | 0 |       0 | 0 |  502900 | 25 | M | Y |\n",
       "\n"
      ],
      "text/plain": [
       "  TENURE_MONTH LOAN_FEE LOAN  MOBILE_TRANSACTIONS MOBILE_TRANSACTIONS_VALUE\n",
       "1  5            4.7     10680  0                        0                  \n",
       "2 21            9.6      9120 13                  2922000                  \n",
       "3 28           10.9     57900  0                        0                  \n",
       "  MOBILE_SERVICES APP_USERS TOTAL_INFLOW SALARY_STATUS TOTAL_OUTFLOW AGE GENDER\n",
       "1 0               0               0      0                   0       25  M     \n",
       "2 3               0         3000000      0             2994764       36  M     \n",
       "3 0               0               0      0              502900       25  M     \n",
       "  IS_DEFAULT\n",
       "1 Y         \n",
       "2 N         \n",
       "3 Y         "
      ]
     },
     "metadata": {},
     "output_type": "display_data"
    }
   ],
   "source": [
    "head(data,3)"
   ]
  },
  {
   "cell_type": "code",
   "execution_count": 11,
   "metadata": {},
   "outputs": [
    {
     "name": "stdout",
     "output_type": "stream",
     "text": [
      "'data.frame':\t11010 obs. of  13 variables:\n",
      " $ TENURE_MONTH             : int  5 21 28 2 21 28 14 14 21 14 ...\n",
      " $ LOAN_FEE                 : num  4.7 9.6 10.9 4.7 9.6 10.9 7.8 7.8 9.6 7.8 ...\n",
      " $ LOAN                     : num  10680 9120 57900 1090 71250 ...\n",
      " $ MOBILE_TRANSACTIONS      : int  0 13 0 0 34 0 4 113 25 12 ...\n",
      " $ MOBILE_TRANSACTIONS_VALUE: num  0 2922000 0 0 502000 ...\n",
      " $ MOBILE_SERVICES          : int  0 3 0 0 6 0 1 9 2 4 ...\n",
      " $ APP_USERS                : int  0 0 0 0 0 0 0 0 0 0 ...\n",
      " $ TOTAL_INFLOW             : int  0 3000000 0 281400 1548399 353597 836622 14250000 1921850 24384 ...\n",
      " $ SALARY_STATUS            : int  0 0 0 1 1 1 0 0 1 0 ...\n",
      " $ TOTAL_OUTFLOW            : int  0 2994764 502900 148931 1265621 351355 662400 16374108 1675230 189341 ...\n",
      " $ AGE                      : int  25 36 25 32 32 35 25 33 46 23 ...\n",
      " $ GENDER                   : chr  \"M\" \"M\" \"M\" \"F\" ...\n",
      " $ IS_DEFAULT               : chr  \"Y\" \"N\" \"Y\" \"Y\" ...\n"
     ]
    }
   ],
   "source": [
    "# checking features stored types\n",
    "str(data)"
   ]
  },
  {
   "cell_type": "markdown",
   "metadata": {},
   "source": [
    "### Encoding and Casting Types"
   ]
  },
  {
   "cell_type": "code",
   "execution_count": 12,
   "metadata": {},
   "outputs": [],
   "source": [
    "# feature encoding (encoding to either 0 or 1 as integer - boolean would also be fine)\n",
    "\n",
    "encoder <- function(x){\n",
    "    if (x %in% c(\"M\",\"Y\")){\n",
    "        x <- 1L\n",
    "    } else {\n",
    "        x <- 0L\n",
    "    }\n",
    "}"
   ]
  },
  {
   "cell_type": "code",
   "execution_count": 13,
   "metadata": {},
   "outputs": [],
   "source": [
    "data$GENDER <- sapply(data$GENDER, encoder)"
   ]
  },
  {
   "cell_type": "code",
   "execution_count": 14,
   "metadata": {},
   "outputs": [],
   "source": [
    "data$IS_DEFAULT <- sapply(data$IS_DEFAULT, encoder)"
   ]
  },
  {
   "cell_type": "code",
   "execution_count": 15,
   "metadata": {},
   "outputs": [],
   "source": [
    "data$TOTAL_INFLOW <- as.numeric(data$TOTAL_INFLOW)\n",
    "data$TOTAL_OUTFLOW <- as.numeric(data$TOTAL_OUTFLOW)"
   ]
  },
  {
   "cell_type": "code",
   "execution_count": 16,
   "metadata": {},
   "outputs": [
    {
     "name": "stdout",
     "output_type": "stream",
     "text": [
      "'data.frame':\t11010 obs. of  13 variables:\n",
      " $ TENURE_MONTH             : int  5 21 28 2 21 28 14 14 21 14 ...\n",
      " $ LOAN_FEE                 : num  4.7 9.6 10.9 4.7 9.6 10.9 7.8 7.8 9.6 7.8 ...\n",
      " $ LOAN                     : num  10680 9120 57900 1090 71250 ...\n",
      " $ MOBILE_TRANSACTIONS      : int  0 13 0 0 34 0 4 113 25 12 ...\n",
      " $ MOBILE_TRANSACTIONS_VALUE: num  0 2922000 0 0 502000 ...\n",
      " $ MOBILE_SERVICES          : int  0 3 0 0 6 0 1 9 2 4 ...\n",
      " $ APP_USERS                : int  0 0 0 0 0 0 0 0 0 0 ...\n",
      " $ TOTAL_INFLOW             : num  0 3000000 0 281400 1548399 ...\n",
      " $ SALARY_STATUS            : int  0 0 0 1 1 1 0 0 1 0 ...\n",
      " $ TOTAL_OUTFLOW            : num  0 2994764 502900 148931 1265621 ...\n",
      " $ AGE                      : int  25 36 25 32 32 35 25 33 46 23 ...\n",
      " $ GENDER                   : int  1 1 1 0 0 1 1 1 1 1 ...\n",
      " $ IS_DEFAULT               : int  1 0 1 1 0 0 1 0 0 1 ...\n"
     ]
    }
   ],
   "source": [
    "# Now we are working with only integer and numeric\n",
    "str(data)"
   ]
  },
  {
   "cell_type": "code",
   "execution_count": 17,
   "metadata": {},
   "outputs": [
    {
     "data": {
      "text/html": [
       "0"
      ],
      "text/latex": [
       "0"
      ],
      "text/markdown": [
       "0"
      ],
      "text/plain": [
       "[1] 0"
      ]
     },
     "metadata": {},
     "output_type": "display_data"
    }
   ],
   "source": [
    "# Check for NAs\n",
    "\n",
    "sum(is.na(data)) # there are no nas"
   ]
  },
  {
   "cell_type": "code",
   "execution_count": 18,
   "metadata": {},
   "outputs": [
    {
     "data": {
      "text/html": [
       "<table class=\"dataframe\">\n",
       "<caption>A data.frame: 3 × 13</caption>\n",
       "<thead>\n",
       "\t<tr><th></th><th scope=col>TENURE_MONTH</th><th scope=col>LOAN_FEE</th><th scope=col>LOAN</th><th scope=col>MOBILE_TRANSACTIONS</th><th scope=col>MOBILE_TRANSACTIONS_VALUE</th><th scope=col>MOBILE_SERVICES</th><th scope=col>APP_USERS</th><th scope=col>TOTAL_INFLOW</th><th scope=col>SALARY_STATUS</th><th scope=col>TOTAL_OUTFLOW</th><th scope=col>AGE</th><th scope=col>GENDER</th><th scope=col>IS_DEFAULT</th></tr>\n",
       "\t<tr><th></th><th scope=col>&lt;int&gt;</th><th scope=col>&lt;dbl&gt;</th><th scope=col>&lt;dbl&gt;</th><th scope=col>&lt;int&gt;</th><th scope=col>&lt;dbl&gt;</th><th scope=col>&lt;int&gt;</th><th scope=col>&lt;int&gt;</th><th scope=col>&lt;dbl&gt;</th><th scope=col>&lt;int&gt;</th><th scope=col>&lt;dbl&gt;</th><th scope=col>&lt;int&gt;</th><th scope=col>&lt;int&gt;</th><th scope=col>&lt;int&gt;</th></tr>\n",
       "</thead>\n",
       "<tbody>\n",
       "\t<tr><th scope=row>1</th><td> 5</td><td> 4.7</td><td>10680</td><td> 0</td><td>      0</td><td>0</td><td>0</td><td>0e+00</td><td>0</td><td>      0</td><td>25</td><td>1</td><td>1</td></tr>\n",
       "\t<tr><th scope=row>2</th><td>21</td><td> 9.6</td><td> 9120</td><td>13</td><td>2922000</td><td>3</td><td>0</td><td>3e+06</td><td>0</td><td>2994764</td><td>36</td><td>1</td><td>0</td></tr>\n",
       "\t<tr><th scope=row>3</th><td>28</td><td>10.9</td><td>57900</td><td> 0</td><td>      0</td><td>0</td><td>0</td><td>0e+00</td><td>0</td><td> 502900</td><td>25</td><td>1</td><td>1</td></tr>\n",
       "</tbody>\n",
       "</table>\n"
      ],
      "text/latex": [
       "A data.frame: 3 × 13\n",
       "\\begin{tabular}{r|lllllllllllll}\n",
       "  & TENURE\\_MONTH & LOAN\\_FEE & LOAN & MOBILE\\_TRANSACTIONS & MOBILE\\_TRANSACTIONS\\_VALUE & MOBILE\\_SERVICES & APP\\_USERS & TOTAL\\_INFLOW & SALARY\\_STATUS & TOTAL\\_OUTFLOW & AGE & GENDER & IS\\_DEFAULT\\\\\n",
       "  & <int> & <dbl> & <dbl> & <int> & <dbl> & <int> & <int> & <dbl> & <int> & <dbl> & <int> & <int> & <int>\\\\\n",
       "\\hline\n",
       "\t1 &  5 &  4.7 & 10680 &  0 &       0 & 0 & 0 & 0e+00 & 0 &       0 & 25 & 1 & 1\\\\\n",
       "\t2 & 21 &  9.6 &  9120 & 13 & 2922000 & 3 & 0 & 3e+06 & 0 & 2994764 & 36 & 1 & 0\\\\\n",
       "\t3 & 28 & 10.9 & 57900 &  0 &       0 & 0 & 0 & 0e+00 & 0 &  502900 & 25 & 1 & 1\\\\\n",
       "\\end{tabular}\n"
      ],
      "text/markdown": [
       "\n",
       "A data.frame: 3 × 13\n",
       "\n",
       "| <!--/--> | TENURE_MONTH &lt;int&gt; | LOAN_FEE &lt;dbl&gt; | LOAN &lt;dbl&gt; | MOBILE_TRANSACTIONS &lt;int&gt; | MOBILE_TRANSACTIONS_VALUE &lt;dbl&gt; | MOBILE_SERVICES &lt;int&gt; | APP_USERS &lt;int&gt; | TOTAL_INFLOW &lt;dbl&gt; | SALARY_STATUS &lt;int&gt; | TOTAL_OUTFLOW &lt;dbl&gt; | AGE &lt;int&gt; | GENDER &lt;int&gt; | IS_DEFAULT &lt;int&gt; |\n",
       "|---|---|---|---|---|---|---|---|---|---|---|---|---|---|\n",
       "| 1 |  5 |  4.7 | 10680 |  0 |       0 | 0 | 0 | 0e+00 | 0 |       0 | 25 | 1 | 1 |\n",
       "| 2 | 21 |  9.6 |  9120 | 13 | 2922000 | 3 | 0 | 3e+06 | 0 | 2994764 | 36 | 1 | 0 |\n",
       "| 3 | 28 | 10.9 | 57900 |  0 |       0 | 0 | 0 | 0e+00 | 0 |  502900 | 25 | 1 | 1 |\n",
       "\n"
      ],
      "text/plain": [
       "  TENURE_MONTH LOAN_FEE LOAN  MOBILE_TRANSACTIONS MOBILE_TRANSACTIONS_VALUE\n",
       "1  5            4.7     10680  0                        0                  \n",
       "2 21            9.6      9120 13                  2922000                  \n",
       "3 28           10.9     57900  0                        0                  \n",
       "  MOBILE_SERVICES APP_USERS TOTAL_INFLOW SALARY_STATUS TOTAL_OUTFLOW AGE GENDER\n",
       "1 0               0         0e+00        0                   0       25  1     \n",
       "2 3               0         3e+06        0             2994764       36  1     \n",
       "3 0               0         0e+00        0              502900       25  1     \n",
       "  IS_DEFAULT\n",
       "1 1         \n",
       "2 0         \n",
       "3 1         "
      ]
     },
     "metadata": {},
     "output_type": "display_data"
    }
   ],
   "source": [
    "head(data,3)"
   ]
  },
  {
   "cell_type": "code",
   "execution_count": 19,
   "metadata": {},
   "outputs": [
    {
     "data": {
      "text/plain": [
       "  TENURE_MONTH      LOAN_FEE           LOAN          MOBILE_TRANSACTIONS\n",
       " Min.   : 0.00   Min.   : 2.100   Min.   :     4.4   Min.   :  0.00     \n",
       " 1st Qu.: 5.00   1st Qu.: 4.700   1st Qu.: 11140.0   1st Qu.:  3.00     \n",
       " Median :21.00   Median : 9.600   Median : 22800.0   Median :  8.00     \n",
       " Mean   :15.73   Mean   : 8.025   Mean   : 37849.7   Mean   : 14.41     \n",
       " 3rd Qu.:21.00   3rd Qu.: 9.600   3rd Qu.: 57900.0   3rd Qu.: 17.00     \n",
       " Max.   :28.00   Max.   :10.900   Max.   :478950.0   Max.   :304.00     \n",
       " MOBILE_TRANSACTIONS_VALUE MOBILE_SERVICES    APP_USERS     \n",
       " Min.   :       0          Min.   : 0.000   Min.   :0.0000  \n",
       " 1st Qu.:    3000          1st Qu.: 1.000   1st Qu.:0.0000  \n",
       " Median :   50000          Median : 3.000   Median :0.0000  \n",
       " Mean   :  581946          Mean   : 2.803   Mean   :0.1734  \n",
       " 3rd Qu.:  341000          3rd Qu.: 4.000   3rd Qu.:0.0000  \n",
       " Max.   :50864000          Max.   :12.000   Max.   :1.0000  \n",
       "  TOTAL_INFLOW       SALARY_STATUS    TOTAL_OUTFLOW            AGE      \n",
       " Min.   :        0   Min.   :0.0000   Min.   :        0   Min.   :19.0  \n",
       " 1st Qu.:   156942   1st Qu.:0.0000   1st Qu.:   180154   1st Qu.:27.0  \n",
       " Median :   505065   Median :0.0000   Median :   540858   Median :32.0  \n",
       " Mean   :  2034138   Mean   :0.3532   Mean   :  2108586   Mean   :33.9  \n",
       " 3rd Qu.:  1357223   3rd Qu.:1.0000   3rd Qu.:  1415761   3rd Qu.:39.0  \n",
       " Max.   :318984324   Max.   :1.0000   Max.   :313252200   Max.   :60.0  \n",
       "     GENDER         IS_DEFAULT    \n",
       " Min.   :0.0000   Min.   :0.0000  \n",
       " 1st Qu.:1.0000   1st Qu.:0.0000  \n",
       " Median :1.0000   Median :1.0000  \n",
       " Mean   :0.7984   Mean   :0.5104  \n",
       " 3rd Qu.:1.0000   3rd Qu.:1.0000  \n",
       " Max.   :1.0000   Max.   :1.0000  "
      ]
     },
     "metadata": {},
     "output_type": "display_data"
    }
   ],
   "source": [
    "# Data is now clean let's check some EDA\n",
    "\n",
    "summary(data)"
   ]
  },
  {
   "cell_type": "code",
   "execution_count": 20,
   "metadata": {},
   "outputs": [
    {
     "data": {
      "text/html": [
       "11010"
      ],
      "text/latex": [
       "11010"
      ],
      "text/markdown": [
       "11010"
      ],
      "text/plain": [
       "[1] 11010"
      ]
     },
     "metadata": {},
     "output_type": "display_data"
    }
   ],
   "source": [
    "# Number of records available\n",
    "nrow(data)"
   ]
  },
  {
   "cell_type": "code",
   "execution_count": 21,
   "metadata": {},
   "outputs": [
    {
     "data": {
      "text/html": [
       "13"
      ],
      "text/latex": [
       "13"
      ],
      "text/markdown": [
       "13"
      ],
      "text/plain": [
       "[1] 13"
      ]
     },
     "metadata": {},
     "output_type": "display_data"
    }
   ],
   "source": [
    "# Number of features in the records\n",
    "ncol(data)"
   ]
  },
  {
   "cell_type": "code",
   "execution_count": 22,
   "metadata": {},
   "outputs": [
    {
     "data": {
      "text/plain": [
       "\n",
       "   0    1 \n",
       "5391 5619 "
      ]
     },
     "metadata": {},
     "output_type": "display_data"
    }
   ],
   "source": [
    "# Exploring the outcome variable. The split is good.\n",
    "table(data$IS_DEFAULT)"
   ]
  },
  {
   "cell_type": "markdown",
   "metadata": {},
   "source": [
    "### Preparing Train and Test Data"
   ]
  },
  {
   "cell_type": "code",
   "execution_count": 23,
   "metadata": {},
   "outputs": [],
   "source": [
    "data$IS_DEFAULT <- as.factor(data$IS_DEFAULT)"
   ]
  },
  {
   "cell_type": "code",
   "execution_count": 24,
   "metadata": {},
   "outputs": [],
   "source": [
    "set.seed(300)\n",
    "trainIndex <- createDataPartition(data$IS_DEFAULT, p = 0.8, list = FALSE, times = 1)"
   ]
  },
  {
   "cell_type": "code",
   "execution_count": 25,
   "metadata": {},
   "outputs": [],
   "source": [
    "train <- data[trainIndex,]\n",
    "test <- data[-trainIndex,]"
   ]
  },
  {
   "cell_type": "code",
   "execution_count": 26,
   "metadata": {},
   "outputs": [
    {
     "data": {
      "text/plain": [
       "\n",
       "        0         1 \n",
       "0.4896129 0.5103871 "
      ]
     },
     "metadata": {},
     "output_type": "display_data"
    }
   ],
   "source": [
    "# Verifying distribution for Train\n",
    "prop.table(table(train$IS_DEFAULT))"
   ]
  },
  {
   "cell_type": "code",
   "execution_count": 27,
   "metadata": {},
   "outputs": [
    {
     "data": {
      "text/plain": [
       "\n",
       "        0         1 \n",
       "0.4897774 0.5102226 "
      ]
     },
     "metadata": {},
     "output_type": "display_data"
    }
   ],
   "source": [
    "# Verifying distribution for Test\n",
    "prop.table(table(test$IS_DEFAULT))"
   ]
  },
  {
   "cell_type": "markdown",
   "metadata": {},
   "source": [
    "### Fitting The Model"
   ]
  },
  {
   "cell_type": "code",
   "execution_count": 28,
   "metadata": {},
   "outputs": [
    {
     "data": {
      "text/plain": [
       "\n",
       "Call:\n",
       " randomForest(formula = IS_DEFAULT ~ ., data = train, ntree = 600,      importance = T, mtry = sqrt(ncol(train)), na.action = na.omit) \n",
       "               Type of random forest: classification\n",
       "                     Number of trees: 600\n",
       "No. of variables tried at each split: 4\n",
       "\n",
       "        OOB estimate of  error rate: 48.54%\n",
       "Confusion matrix:\n",
       "     0    1 class.error\n",
       "0 2050 2263   0.5246928\n",
       "1 2013 2483   0.4477313"
      ]
     },
     "metadata": {},
     "output_type": "display_data"
    }
   ],
   "source": [
    "# Fitting our data using Random Forest\n",
    "rf.model <- randomForest(IS_DEFAULT~., data = train, ntree=600, importance = T, mtry = sqrt(ncol(train)), na.action = na.omit)\n",
    "rf.model"
   ]
  },
  {
   "cell_type": "code",
   "execution_count": 29,
   "metadata": {},
   "outputs": [
    {
     "data": {
      "text/plain": [
       "Confusion Matrix and Statistics\n",
       "\n",
       "          Reference\n",
       "Prediction   0   1\n",
       "         0 492 586\n",
       "         1 528 595\n",
       "                                         \n",
       "               Accuracy : 0.4939         \n",
       "                 95% CI : (0.4728, 0.515)\n",
       "    No Information Rate : 0.5366         \n",
       "    P-Value [Acc > NIR] : 0.99997        \n",
       "                                         \n",
       "                  Kappa : -0.0138        \n",
       "                                         \n",
       " Mcnemar's Test P-Value : 0.08768        \n",
       "                                         \n",
       "            Sensitivity : 0.5038         \n",
       "            Specificity : 0.4824         \n",
       "         Pos Pred Value : 0.5298         \n",
       "         Neg Pred Value : 0.4564         \n",
       "             Prevalence : 0.5366         \n",
       "         Detection Rate : 0.2703         \n",
       "   Detection Prevalence : 0.5102         \n",
       "      Balanced Accuracy : 0.4931         \n",
       "                                         \n",
       "       'Positive' Class : 1              \n",
       "                                         "
      ]
     },
     "metadata": {},
     "output_type": "display_data"
    }
   ],
   "source": [
    "# Accuracy check using test data\n",
    "\n",
    "y_pred_test <- predict(rf.model, newdata = test)\n",
    "\n",
    "conf_test <- confusionMatrix(test$IS_DEFAULT, y_pred_test, positive = \"1\")\n",
    "\n",
    "conf_test"
   ]
  },
  {
   "cell_type": "markdown",
   "metadata": {},
   "source": [
    "#### Feature Importance"
   ]
  },
  {
   "cell_type": "code",
   "execution_count": 30,
   "metadata": {},
   "outputs": [
    {
     "data": {
      "image/png": "[encoded data removed]",
      "text/plain": [
       "plot without title"
      ]
     },
     "metadata": {
      "image/png": {
       "height": 420,
       "width": 420
      }
     },
     "output_type": "display_data"
    }
   ],
   "source": [
    "varImpPlot(rf.model , sort = TRUE , n.var=6 , main = \"Variable Importance Plot\" )"
   ]
  },
  {
   "cell_type": "markdown",
   "metadata": {},
   "source": [
    "### Model Accuracy"
   ]
  },
  {
   "cell_type": "code",
   "execution_count": 31,
   "metadata": {},
   "outputs": [
    {
     "name": "stderr",
     "output_type": "stream",
     "text": [
      "Setting levels: control = 0, case = 1\n",
      "\n",
      "Setting direction: controls > cases\n",
      "\n",
      "Setting levels: control = 0, case = 1\n",
      "\n",
      "Setting direction: controls > cases\n",
      "\n"
     ]
    },
    {
     "data": {
      "image/png": "[encoded data removed]",
      "text/plain": [
       "plot without title"
      ]
     },
     "metadata": {
      "image/png": {
       "height": 420,
       "width": 420
      }
     },
     "output_type": "display_data"
    }
   ],
   "source": [
    "pred_prob_test  <- predict(rf.model, type = \"prob\", newdata =  test)\n",
    "\n",
    "auc <-auc(test$IS_DEFAULT, pred_prob_test[,2])\n",
    "rocobj  <- roc(test$IS_DEFAULT, pred_prob_test[,2])\n",
    "\n",
    "\n",
    "ggroc(rocobj, colour = 'steelblue', size = 2) +\n",
    "  ggtitle(paste0('ROC Curve ', '(AUC = ', round(auc,3), ')'))"
   ]
  },
  {
   "cell_type": "code",
   "execution_count": null,
   "metadata": {},
   "outputs": [],
   "source": []
  }
 ],
 "metadata": {
  "kernelspec": {
   "display_name": "R",
   "language": "R",
   "name": "ir"
  },
  "language_info": {
   "codemirror_mode": "r",
   "file_extension": ".r",
   "mimetype": "text/x-r-source",
   "name": "R",
   "pygments_lexer": "r",
   "version": "4.1.3"
  }
 },
 "nbformat": 4,
 "nbformat_minor": 2
}
