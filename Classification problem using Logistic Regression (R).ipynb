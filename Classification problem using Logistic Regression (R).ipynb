{
 "cells": [
  {
   "cell_type": "markdown",
   "metadata": {},
   "source": [
    "<a id=\"Objective\"></a>\n",
    "<h1>Objective:</h1></br>\n",
    "\n",
    "The Objective of this exercise is to build a classification model to help identify creditworthy customers from historical data of defaulters and non-defaulters provided (under file_2.csv)"
   ]
  },
  {
   "cell_type": "markdown",
   "metadata": {},
   "source": [
    "<a id=\"introduction\"></a>\n",
    "\n",
    "### Abstract"
   ]
  },
  {
   "cell_type": "markdown",
   "metadata": {},
   "source": [
    "<p> In this work we will attempt to train a <strong>Logistic Regression classifier (Supervised ML model)</strong> on customers dataset. As a checker in a separate notebook we will later try to use a powerful Unsupervised ML model (Random Forest) to get comfort of the performance of our logistic regression classifier before we are able to make conclusion.</p>\n",
    "<br>\n",
    "<strong> Logistic regression </strong>- Is a supervised Machine Learning algorithm that can be used for both Classification and Regression tasks. In most cases we deal with two-classes problems <strong>(binomial classification)</strong> Softmax regression can be used for multinomial classification problems. Softmax Regression is sometimes refered to as a Multinomial Logistic Regression.\n",
    "\n",
    "The logistic regression function 𝑝(𝐱) is the sigmoid function of 𝑓(𝐱): 𝑝(𝐱) = 1 / (1 + exp(−𝑓(𝐱))\n",
    "To get the best weights, you usually maximize the log-likelihood function (LLF) for all observations 𝑖 = 1, …, 𝑛. This method is called the maximum likelihood estimation and is represented by the equation LLF = Σᵢ(𝑦ᵢ log(𝑝(𝐱ᵢ)) + (1 − 𝑦ᵢ) log(1 − 𝑝(𝐱ᵢ)))\n",
    "\n",
    "<strong> Random Forest </strong>- a Random Forest is an ensemble of Decision Trees, generally trained via the bagging method (or sometimes pasting), typically with max_samples set to the size of the training set. Random forest uses bagging (picking a sample of observations rather than all of them) and random subspace method (picking a sample of features rather than all of them, in other words - attribute bagging) to grow a tree."
   ]
  },
  {
   "cell_type": "code",
   "execution_count": 1,
   "metadata": {},
   "outputs": [],
   "source": [
    "#listing important packages needed \n",
    "\n",
    "required.packages <- c(\"tidyverse\", \"pROC\", \"stringr\", \"ggcorrplot\", \"caret\")"
   ]
  },
  {
   "cell_type": "code",
   "execution_count": 2,
   "metadata": {},
   "outputs": [
    {
     "name": "stderr",
     "output_type": "stream",
     "text": [
      "Loading required package: tidyverse\n",
      "\n",
      "-- \u001b[1mAttaching packages\u001b[22m ------------------------------------------------------------------------------- tidyverse 1.3.1 --\n",
      "\n",
      "\u001b[32mv\u001b[39m \u001b[34mggplot2\u001b[39m 3.3.5     \u001b[32mv\u001b[39m \u001b[34mpurrr  \u001b[39m 0.3.4\n",
      "\u001b[32mv\u001b[39m \u001b[34mtibble \u001b[39m 3.1.6     \u001b[32mv\u001b[39m \u001b[34mdplyr  \u001b[39m 1.0.8\n",
      "\u001b[32mv\u001b[39m \u001b[34mtidyr  \u001b[39m 1.2.0     \u001b[32mv\u001b[39m \u001b[34mstringr\u001b[39m 1.4.0\n",
      "\u001b[32mv\u001b[39m \u001b[34mreadr  \u001b[39m 2.1.2     \u001b[32mv\u001b[39m \u001b[34mforcats\u001b[39m 0.5.1\n",
      "\n",
      "-- \u001b[1mConflicts\u001b[22m ---------------------------------------------------------------------------------- tidyverse_conflicts() --\n",
      "\u001b[31mx\u001b[39m \u001b[34mdplyr\u001b[39m::\u001b[32mfilter()\u001b[39m masks \u001b[34mstats\u001b[39m::filter()\n",
      "\u001b[31mx\u001b[39m \u001b[34mdplyr\u001b[39m::\u001b[32mlag()\u001b[39m    masks \u001b[34mstats\u001b[39m::lag()\n",
      "\n",
      "Loading required package: pROC\n",
      "\n",
      "Type 'citation(\"pROC\")' for a citation.\n",
      "\n",
      "\n",
      "Attaching package: 'pROC'\n",
      "\n",
      "\n",
      "The following objects are masked from 'package:stats':\n",
      "\n",
      "    cov, smooth, var\n",
      "\n",
      "\n",
      "Loading required package: ggcorrplot\n",
      "\n",
      "Loading required package: caret\n",
      "\n",
      "Loading required package: lattice\n",
      "\n",
      "\n",
      "Attaching package: 'caret'\n",
      "\n",
      "\n",
      "The following object is masked from 'package:purrr':\n",
      "\n",
      "    lift\n",
      "\n",
      "\n"
     ]
    },
    {
     "data": {
      "text/html": [
       "<style>\n",
       ".dl-inline {width: auto; margin:0; padding: 0}\n",
       ".dl-inline>dt, .dl-inline>dd {float: none; width: auto; display: inline-block}\n",
       ".dl-inline>dt::after {content: \":\\0020\"; padding-right: .5ex}\n",
       ".dl-inline>dt:not(:first-of-type) {padding-left: .5ex}\n",
       "</style><dl class=dl-inline><dt>tidyverse</dt><dd>TRUE</dd><dt>pROC</dt><dd>TRUE</dd><dt>stringr</dt><dd>TRUE</dd><dt>ggcorrplot</dt><dd>TRUE</dd><dt>caret</dt><dd>TRUE</dd></dl>\n"
      ],
      "text/latex": [
       "\\begin{description*}\n",
       "\\item[tidyverse] TRUE\n",
       "\\item[pROC] TRUE\n",
       "\\item[stringr] TRUE\n",
       "\\item[ggcorrplot] TRUE\n",
       "\\item[caret] TRUE\n",
       "\\end{description*}\n"
      ],
      "text/markdown": [
       "tidyverse\n",
       ":   TRUEpROC\n",
       ":   TRUEstringr\n",
       ":   TRUEggcorrplot\n",
       ":   TRUEcaret\n",
       ":   TRUE\n",
       "\n"
      ],
      "text/plain": [
       " tidyverse       pROC    stringr ggcorrplot      caret \n",
       "      TRUE       TRUE       TRUE       TRUE       TRUE "
      ]
     },
     "metadata": {},
     "output_type": "display_data"
    }
   ],
   "source": [
    "#verify if all above packages are contained in the list of installed packages for our R environment\n",
    "missing.packages <- required.packages[!(required.packages %in% installed.packages()[,\"Package\"])]\n",
    "if(length(new.packages)>0) install.packages(missing.packages, dependencies = TRUE)\n",
    "\n",
    "#loading packages\n",
    "sapply(required.packages, require, character.only = TRUE)"
   ]
  },
  {
   "cell_type": "markdown",
   "metadata": {},
   "source": [
    "<a id=\"prep_data\"></a>\n",
    "\n",
    "### 1. Preparing Data"
   ]
  },
  {
   "cell_type": "code",
   "execution_count": 3,
   "metadata": {},
   "outputs": [],
   "source": [
    "data <- read.csv('file_2.csv')"
   ]
  },
  {
   "cell_type": "code",
   "execution_count": 4,
   "metadata": {},
   "outputs": [
    {
     "data": {
      "text/html": [
       "<table class=\"dataframe\">\n",
       "<caption>A data.frame: 3 × 13</caption>\n",
       "<thead>\n",
       "\t<tr><th></th><th scope=col>ï..tenure.month</th><th scope=col>loan.fee</th><th scope=col>loan</th><th scope=col>mobile.transactions</th><th scope=col>mobile.transactions.value</th><th scope=col>mobile.services</th><th scope=col>app.users</th><th scope=col>TOTAL_INFLOW</th><th scope=col>SALARY_STATUS</th><th scope=col>TOTAL_OUTFLOW</th><th scope=col>age</th><th scope=col>gender</th><th scope=col>is_default</th></tr>\n",
       "\t<tr><th></th><th scope=col>&lt;int&gt;</th><th scope=col>&lt;dbl&gt;</th><th scope=col>&lt;dbl&gt;</th><th scope=col>&lt;int&gt;</th><th scope=col>&lt;dbl&gt;</th><th scope=col>&lt;int&gt;</th><th scope=col>&lt;int&gt;</th><th scope=col>&lt;int&gt;</th><th scope=col>&lt;int&gt;</th><th scope=col>&lt;int&gt;</th><th scope=col>&lt;int&gt;</th><th scope=col>&lt;chr&gt;</th><th scope=col>&lt;chr&gt;</th></tr>\n",
       "</thead>\n",
       "<tbody>\n",
       "\t<tr><th scope=row>1</th><td> 5</td><td> 4.7</td><td>10680</td><td> 0</td><td>      0</td><td>0</td><td>0</td><td>      0</td><td>0</td><td>      0</td><td>25</td><td>M</td><td>Y</td></tr>\n",
       "\t<tr><th scope=row>2</th><td>21</td><td> 9.6</td><td> 9120</td><td>13</td><td>2922000</td><td>3</td><td>0</td><td>3000000</td><td>0</td><td>2994764</td><td>36</td><td>M</td><td>N</td></tr>\n",
       "\t<tr><th scope=row>3</th><td>28</td><td>10.9</td><td>57900</td><td> 0</td><td>      0</td><td>0</td><td>0</td><td>      0</td><td>0</td><td> 502900</td><td>25</td><td>M</td><td>Y</td></tr>\n",
       "</tbody>\n",
       "</table>\n"
      ],
      "text/latex": [
       "A data.frame: 3 × 13\n",
       "\\begin{tabular}{r|lllllllllllll}\n",
       "  & ï..tenure.month & loan.fee & loan & mobile.transactions & mobile.transactions.value & mobile.services & app.users & TOTAL\\_INFLOW & SALARY\\_STATUS & TOTAL\\_OUTFLOW & age & gender & is\\_default\\\\\n",
       "  & <int> & <dbl> & <dbl> & <int> & <dbl> & <int> & <int> & <int> & <int> & <int> & <int> & <chr> & <chr>\\\\\n",
       "\\hline\n",
       "\t1 &  5 &  4.7 & 10680 &  0 &       0 & 0 & 0 &       0 & 0 &       0 & 25 & M & Y\\\\\n",
       "\t2 & 21 &  9.6 &  9120 & 13 & 2922000 & 3 & 0 & 3000000 & 0 & 2994764 & 36 & M & N\\\\\n",
       "\t3 & 28 & 10.9 & 57900 &  0 &       0 & 0 & 0 &       0 & 0 &  502900 & 25 & M & Y\\\\\n",
       "\\end{tabular}\n"
      ],
      "text/markdown": [
       "\n",
       "A data.frame: 3 × 13\n",
       "\n",
       "| <!--/--> | ï..tenure.month &lt;int&gt; | loan.fee &lt;dbl&gt; | loan &lt;dbl&gt; | mobile.transactions &lt;int&gt; | mobile.transactions.value &lt;dbl&gt; | mobile.services &lt;int&gt; | app.users &lt;int&gt; | TOTAL_INFLOW &lt;int&gt; | SALARY_STATUS &lt;int&gt; | TOTAL_OUTFLOW &lt;int&gt; | age &lt;int&gt; | gender &lt;chr&gt; | is_default &lt;chr&gt; |\n",
       "|---|---|---|---|---|---|---|---|---|---|---|---|---|---|\n",
       "| 1 |  5 |  4.7 | 10680 |  0 |       0 | 0 | 0 |       0 | 0 |       0 | 25 | M | Y |\n",
       "| 2 | 21 |  9.6 |  9120 | 13 | 2922000 | 3 | 0 | 3000000 | 0 | 2994764 | 36 | M | N |\n",
       "| 3 | 28 | 10.9 | 57900 |  0 |       0 | 0 | 0 |       0 | 0 |  502900 | 25 | M | Y |\n",
       "\n"
      ],
      "text/plain": [
       "  ï..tenure.month loan.fee loan  mobile.transactions mobile.transactions.value\n",
       "1  5               4.7     10680  0                        0                  \n",
       "2 21               9.6      9120 13                  2922000                  \n",
       "3 28              10.9     57900  0                        0                  \n",
       "  mobile.services app.users TOTAL_INFLOW SALARY_STATUS TOTAL_OUTFLOW age gender\n",
       "1 0               0               0      0                   0       25  M     \n",
       "2 3               0         3000000      0             2994764       36  M     \n",
       "3 0               0               0      0              502900       25  M     \n",
       "  is_default\n",
       "1 Y         \n",
       "2 N         \n",
       "3 Y         "
      ]
     },
     "metadata": {},
     "output_type": "display_data"
    }
   ],
   "source": [
    "head(data,3)"
   ]
  },
  {
   "cell_type": "markdown",
   "metadata": {},
   "source": [
    "### 2. Tidying Up data\n",
    "Cleaning column names and ensuring data has the correct data type. Data type can really affect model's performance"
   ]
  },
  {
   "cell_type": "code",
   "execution_count": 5,
   "metadata": {},
   "outputs": [],
   "source": [
    "# Upper case column names\n",
    "names(data) <- toupper(names(data))"
   ]
  },
  {
   "cell_type": "code",
   "execution_count": 6,
   "metadata": {},
   "outputs": [],
   "source": [
    "names(data)[names(data)=='Ï..TENURE.MONTH'] <- c('TENURE.MONTH')"
   ]
  },
  {
   "cell_type": "code",
   "execution_count": 7,
   "metadata": {},
   "outputs": [
    {
     "data": {
      "text/html": [
       "<table class=\"dataframe\">\n",
       "<caption>A data.frame: 3 × 13</caption>\n",
       "<thead>\n",
       "\t<tr><th></th><th scope=col>TENURE.MONTH</th><th scope=col>LOAN.FEE</th><th scope=col>LOAN</th><th scope=col>MOBILE.TRANSACTIONS</th><th scope=col>MOBILE.TRANSACTIONS.VALUE</th><th scope=col>MOBILE.SERVICES</th><th scope=col>APP.USERS</th><th scope=col>TOTAL_INFLOW</th><th scope=col>SALARY_STATUS</th><th scope=col>TOTAL_OUTFLOW</th><th scope=col>AGE</th><th scope=col>GENDER</th><th scope=col>IS_DEFAULT</th></tr>\n",
       "\t<tr><th></th><th scope=col>&lt;int&gt;</th><th scope=col>&lt;dbl&gt;</th><th scope=col>&lt;dbl&gt;</th><th scope=col>&lt;int&gt;</th><th scope=col>&lt;dbl&gt;</th><th scope=col>&lt;int&gt;</th><th scope=col>&lt;int&gt;</th><th scope=col>&lt;int&gt;</th><th scope=col>&lt;int&gt;</th><th scope=col>&lt;int&gt;</th><th scope=col>&lt;int&gt;</th><th scope=col>&lt;chr&gt;</th><th scope=col>&lt;chr&gt;</th></tr>\n",
       "</thead>\n",
       "<tbody>\n",
       "\t<tr><th scope=row>1</th><td> 5</td><td> 4.7</td><td>10680</td><td> 0</td><td>      0</td><td>0</td><td>0</td><td>      0</td><td>0</td><td>      0</td><td>25</td><td>M</td><td>Y</td></tr>\n",
       "\t<tr><th scope=row>2</th><td>21</td><td> 9.6</td><td> 9120</td><td>13</td><td>2922000</td><td>3</td><td>0</td><td>3000000</td><td>0</td><td>2994764</td><td>36</td><td>M</td><td>N</td></tr>\n",
       "\t<tr><th scope=row>3</th><td>28</td><td>10.9</td><td>57900</td><td> 0</td><td>      0</td><td>0</td><td>0</td><td>      0</td><td>0</td><td> 502900</td><td>25</td><td>M</td><td>Y</td></tr>\n",
       "</tbody>\n",
       "</table>\n"
      ],
      "text/latex": [
       "A data.frame: 3 × 13\n",
       "\\begin{tabular}{r|lllllllllllll}\n",
       "  & TENURE.MONTH & LOAN.FEE & LOAN & MOBILE.TRANSACTIONS & MOBILE.TRANSACTIONS.VALUE & MOBILE.SERVICES & APP.USERS & TOTAL\\_INFLOW & SALARY\\_STATUS & TOTAL\\_OUTFLOW & AGE & GENDER & IS\\_DEFAULT\\\\\n",
       "  & <int> & <dbl> & <dbl> & <int> & <dbl> & <int> & <int> & <int> & <int> & <int> & <int> & <chr> & <chr>\\\\\n",
       "\\hline\n",
       "\t1 &  5 &  4.7 & 10680 &  0 &       0 & 0 & 0 &       0 & 0 &       0 & 25 & M & Y\\\\\n",
       "\t2 & 21 &  9.6 &  9120 & 13 & 2922000 & 3 & 0 & 3000000 & 0 & 2994764 & 36 & M & N\\\\\n",
       "\t3 & 28 & 10.9 & 57900 &  0 &       0 & 0 & 0 &       0 & 0 &  502900 & 25 & M & Y\\\\\n",
       "\\end{tabular}\n"
      ],
      "text/markdown": [
       "\n",
       "A data.frame: 3 × 13\n",
       "\n",
       "| <!--/--> | TENURE.MONTH &lt;int&gt; | LOAN.FEE &lt;dbl&gt; | LOAN &lt;dbl&gt; | MOBILE.TRANSACTIONS &lt;int&gt; | MOBILE.TRANSACTIONS.VALUE &lt;dbl&gt; | MOBILE.SERVICES &lt;int&gt; | APP.USERS &lt;int&gt; | TOTAL_INFLOW &lt;int&gt; | SALARY_STATUS &lt;int&gt; | TOTAL_OUTFLOW &lt;int&gt; | AGE &lt;int&gt; | GENDER &lt;chr&gt; | IS_DEFAULT &lt;chr&gt; |\n",
       "|---|---|---|---|---|---|---|---|---|---|---|---|---|---|\n",
       "| 1 |  5 |  4.7 | 10680 |  0 |       0 | 0 | 0 |       0 | 0 |       0 | 25 | M | Y |\n",
       "| 2 | 21 |  9.6 |  9120 | 13 | 2922000 | 3 | 0 | 3000000 | 0 | 2994764 | 36 | M | N |\n",
       "| 3 | 28 | 10.9 | 57900 |  0 |       0 | 0 | 0 |       0 | 0 |  502900 | 25 | M | Y |\n",
       "\n"
      ],
      "text/plain": [
       "  TENURE.MONTH LOAN.FEE LOAN  MOBILE.TRANSACTIONS MOBILE.TRANSACTIONS.VALUE\n",
       "1  5            4.7     10680  0                        0                  \n",
       "2 21            9.6      9120 13                  2922000                  \n",
       "3 28           10.9     57900  0                        0                  \n",
       "  MOBILE.SERVICES APP.USERS TOTAL_INFLOW SALARY_STATUS TOTAL_OUTFLOW AGE GENDER\n",
       "1 0               0               0      0                   0       25  M     \n",
       "2 3               0         3000000      0             2994764       36  M     \n",
       "3 0               0               0      0              502900       25  M     \n",
       "  IS_DEFAULT\n",
       "1 Y         \n",
       "2 N         \n",
       "3 Y         "
      ]
     },
     "metadata": {},
     "output_type": "display_data"
    }
   ],
   "source": [
    "head(data,3)"
   ]
  },
  {
   "cell_type": "code",
   "execution_count": 8,
   "metadata": {},
   "outputs": [],
   "source": [
    "# Replace dots with underscores\n",
    "names(data) <- gsub('\\\\.', '_', names(data))"
   ]
  },
  {
   "cell_type": "code",
   "execution_count": 9,
   "metadata": {},
   "outputs": [
    {
     "data": {
      "text/plain": [
       "\n",
       "   N    Y \n",
       "5391 5619 "
      ]
     },
     "metadata": {},
     "output_type": "display_data"
    }
   ],
   "source": [
    "# Check distribution of the outcome variable\n",
    "table(data$IS_DEFAULT)"
   ]
  },
  {
   "cell_type": "code",
   "execution_count": 10,
   "metadata": {},
   "outputs": [
    {
     "data": {
      "text/html": [
       "<table class=\"dataframe\">\n",
       "<caption>A data.frame: 3 × 13</caption>\n",
       "<thead>\n",
       "\t<tr><th></th><th scope=col>TENURE_MONTH</th><th scope=col>LOAN_FEE</th><th scope=col>LOAN</th><th scope=col>MOBILE_TRANSACTIONS</th><th scope=col>MOBILE_TRANSACTIONS_VALUE</th><th scope=col>MOBILE_SERVICES</th><th scope=col>APP_USERS</th><th scope=col>TOTAL_INFLOW</th><th scope=col>SALARY_STATUS</th><th scope=col>TOTAL_OUTFLOW</th><th scope=col>AGE</th><th scope=col>GENDER</th><th scope=col>IS_DEFAULT</th></tr>\n",
       "\t<tr><th></th><th scope=col>&lt;int&gt;</th><th scope=col>&lt;dbl&gt;</th><th scope=col>&lt;dbl&gt;</th><th scope=col>&lt;int&gt;</th><th scope=col>&lt;dbl&gt;</th><th scope=col>&lt;int&gt;</th><th scope=col>&lt;int&gt;</th><th scope=col>&lt;int&gt;</th><th scope=col>&lt;int&gt;</th><th scope=col>&lt;int&gt;</th><th scope=col>&lt;int&gt;</th><th scope=col>&lt;chr&gt;</th><th scope=col>&lt;chr&gt;</th></tr>\n",
       "</thead>\n",
       "<tbody>\n",
       "\t<tr><th scope=row>1</th><td> 5</td><td> 4.7</td><td>10680</td><td> 0</td><td>      0</td><td>0</td><td>0</td><td>      0</td><td>0</td><td>      0</td><td>25</td><td>M</td><td>Y</td></tr>\n",
       "\t<tr><th scope=row>2</th><td>21</td><td> 9.6</td><td> 9120</td><td>13</td><td>2922000</td><td>3</td><td>0</td><td>3000000</td><td>0</td><td>2994764</td><td>36</td><td>M</td><td>N</td></tr>\n",
       "\t<tr><th scope=row>3</th><td>28</td><td>10.9</td><td>57900</td><td> 0</td><td>      0</td><td>0</td><td>0</td><td>      0</td><td>0</td><td> 502900</td><td>25</td><td>M</td><td>Y</td></tr>\n",
       "</tbody>\n",
       "</table>\n"
      ],
      "text/latex": [
       "A data.frame: 3 × 13\n",
       "\\begin{tabular}{r|lllllllllllll}\n",
       "  & TENURE\\_MONTH & LOAN\\_FEE & LOAN & MOBILE\\_TRANSACTIONS & MOBILE\\_TRANSACTIONS\\_VALUE & MOBILE\\_SERVICES & APP\\_USERS & TOTAL\\_INFLOW & SALARY\\_STATUS & TOTAL\\_OUTFLOW & AGE & GENDER & IS\\_DEFAULT\\\\\n",
       "  & <int> & <dbl> & <dbl> & <int> & <dbl> & <int> & <int> & <int> & <int> & <int> & <int> & <chr> & <chr>\\\\\n",
       "\\hline\n",
       "\t1 &  5 &  4.7 & 10680 &  0 &       0 & 0 & 0 &       0 & 0 &       0 & 25 & M & Y\\\\\n",
       "\t2 & 21 &  9.6 &  9120 & 13 & 2922000 & 3 & 0 & 3000000 & 0 & 2994764 & 36 & M & N\\\\\n",
       "\t3 & 28 & 10.9 & 57900 &  0 &       0 & 0 & 0 &       0 & 0 &  502900 & 25 & M & Y\\\\\n",
       "\\end{tabular}\n"
      ],
      "text/markdown": [
       "\n",
       "A data.frame: 3 × 13\n",
       "\n",
       "| <!--/--> | TENURE_MONTH &lt;int&gt; | LOAN_FEE &lt;dbl&gt; | LOAN &lt;dbl&gt; | MOBILE_TRANSACTIONS &lt;int&gt; | MOBILE_TRANSACTIONS_VALUE &lt;dbl&gt; | MOBILE_SERVICES &lt;int&gt; | APP_USERS &lt;int&gt; | TOTAL_INFLOW &lt;int&gt; | SALARY_STATUS &lt;int&gt; | TOTAL_OUTFLOW &lt;int&gt; | AGE &lt;int&gt; | GENDER &lt;chr&gt; | IS_DEFAULT &lt;chr&gt; |\n",
       "|---|---|---|---|---|---|---|---|---|---|---|---|---|---|\n",
       "| 1 |  5 |  4.7 | 10680 |  0 |       0 | 0 | 0 |       0 | 0 |       0 | 25 | M | Y |\n",
       "| 2 | 21 |  9.6 |  9120 | 13 | 2922000 | 3 | 0 | 3000000 | 0 | 2994764 | 36 | M | N |\n",
       "| 3 | 28 | 10.9 | 57900 |  0 |       0 | 0 | 0 |       0 | 0 |  502900 | 25 | M | Y |\n",
       "\n"
      ],
      "text/plain": [
       "  TENURE_MONTH LOAN_FEE LOAN  MOBILE_TRANSACTIONS MOBILE_TRANSACTIONS_VALUE\n",
       "1  5            4.7     10680  0                        0                  \n",
       "2 21            9.6      9120 13                  2922000                  \n",
       "3 28           10.9     57900  0                        0                  \n",
       "  MOBILE_SERVICES APP_USERS TOTAL_INFLOW SALARY_STATUS TOTAL_OUTFLOW AGE GENDER\n",
       "1 0               0               0      0                   0       25  M     \n",
       "2 3               0         3000000      0             2994764       36  M     \n",
       "3 0               0               0      0              502900       25  M     \n",
       "  IS_DEFAULT\n",
       "1 Y         \n",
       "2 N         \n",
       "3 Y         "
      ]
     },
     "metadata": {},
     "output_type": "display_data"
    }
   ],
   "source": [
    "# Preview data\n",
    "head(data,3)"
   ]
  },
  {
   "cell_type": "code",
   "execution_count": 11,
   "metadata": {},
   "outputs": [
    {
     "name": "stdout",
     "output_type": "stream",
     "text": [
      "'data.frame':\t11010 obs. of  13 variables:\n",
      " $ TENURE_MONTH             : int  5 21 28 2 21 28 14 14 21 14 ...\n",
      " $ LOAN_FEE                 : num  4.7 9.6 10.9 4.7 9.6 10.9 7.8 7.8 9.6 7.8 ...\n",
      " $ LOAN                     : num  10680 9120 57900 1090 71250 ...\n",
      " $ MOBILE_TRANSACTIONS      : int  0 13 0 0 34 0 4 113 25 12 ...\n",
      " $ MOBILE_TRANSACTIONS_VALUE: num  0 2922000 0 0 502000 ...\n",
      " $ MOBILE_SERVICES          : int  0 3 0 0 6 0 1 9 2 4 ...\n",
      " $ APP_USERS                : int  0 0 0 0 0 0 0 0 0 0 ...\n",
      " $ TOTAL_INFLOW             : int  0 3000000 0 281400 1548399 353597 836622 14250000 1921850 24384 ...\n",
      " $ SALARY_STATUS            : int  0 0 0 1 1 1 0 0 1 0 ...\n",
      " $ TOTAL_OUTFLOW            : int  0 2994764 502900 148931 1265621 351355 662400 16374108 1675230 189341 ...\n",
      " $ AGE                      : int  25 36 25 32 32 35 25 33 46 23 ...\n",
      " $ GENDER                   : chr  \"M\" \"M\" \"M\" \"F\" ...\n",
      " $ IS_DEFAULT               : chr  \"Y\" \"N\" \"Y\" \"Y\" ...\n"
     ]
    }
   ],
   "source": [
    "# checking features stored types\n",
    "str(data)"
   ]
  },
  {
   "cell_type": "code",
   "execution_count": 12,
   "metadata": {},
   "outputs": [],
   "source": [
    "# Casting columns to numeric\n",
    "data$TOTAL_INFLOW <- as.numeric(data$TOTAL_INFLOW)\n",
    "data$TOTAL_OUTFLOW <- as.numeric(data$TOTAL_OUTFLOW)"
   ]
  },
  {
   "cell_type": "markdown",
   "metadata": {},
   "source": [
    "### 3. Exploratory Data Analysis"
   ]
  },
  {
   "cell_type": "code",
   "execution_count": 13,
   "metadata": {},
   "outputs": [
    {
     "data": {
      "text/html": [
       "11010"
      ],
      "text/latex": [
       "11010"
      ],
      "text/markdown": [
       "11010"
      ],
      "text/plain": [
       "[1] 11010"
      ]
     },
     "metadata": {},
     "output_type": "display_data"
    }
   ],
   "source": [
    "nrow(data)"
   ]
  },
  {
   "cell_type": "code",
   "execution_count": 14,
   "metadata": {},
   "outputs": [
    {
     "data": {
      "text/html": [
       "13"
      ],
      "text/latex": [
       "13"
      ],
      "text/markdown": [
       "13"
      ],
      "text/plain": [
       "[1] 13"
      ]
     },
     "metadata": {},
     "output_type": "display_data"
    }
   ],
   "source": [
    "ncol(data)"
   ]
  },
  {
   "cell_type": "markdown",
   "metadata": {},
   "source": [
    "The dataset has 11,010 records and 13 features/columns that we will need to use for this exercise. <br> \n",
    "<strong>IS_DEFAULT</strong>: Is the outcome variable flagging whether customers had defaulted or not <br>\n",
    "The remaining 12 features are to be used to make predictions (independent variables)"
   ]
  },
  {
   "cell_type": "code",
   "execution_count": 15,
   "metadata": {},
   "outputs": [
    {
     "data": {
      "text/plain": [
       "  TENURE_MONTH      LOAN_FEE           LOAN          MOBILE_TRANSACTIONS\n",
       " Min.   : 0.00   Min.   : 2.100   Min.   :     4.4   Min.   :  0.00     \n",
       " 1st Qu.: 5.00   1st Qu.: 4.700   1st Qu.: 11140.0   1st Qu.:  3.00     \n",
       " Median :21.00   Median : 9.600   Median : 22800.0   Median :  8.00     \n",
       " Mean   :15.73   Mean   : 8.025   Mean   : 37849.7   Mean   : 14.41     \n",
       " 3rd Qu.:21.00   3rd Qu.: 9.600   3rd Qu.: 57900.0   3rd Qu.: 17.00     \n",
       " Max.   :28.00   Max.   :10.900   Max.   :478950.0   Max.   :304.00     \n",
       " MOBILE_TRANSACTIONS_VALUE MOBILE_SERVICES    APP_USERS     \n",
       " Min.   :       0          Min.   : 0.000   Min.   :0.0000  \n",
       " 1st Qu.:    3000          1st Qu.: 1.000   1st Qu.:0.0000  \n",
       " Median :   50000          Median : 3.000   Median :0.0000  \n",
       " Mean   :  581946          Mean   : 2.803   Mean   :0.1734  \n",
       " 3rd Qu.:  341000          3rd Qu.: 4.000   3rd Qu.:0.0000  \n",
       " Max.   :50864000          Max.   :12.000   Max.   :1.0000  \n",
       "  TOTAL_INFLOW       SALARY_STATUS    TOTAL_OUTFLOW            AGE      \n",
       " Min.   :        0   Min.   :0.0000   Min.   :        0   Min.   :19.0  \n",
       " 1st Qu.:   156942   1st Qu.:0.0000   1st Qu.:   180154   1st Qu.:27.0  \n",
       " Median :   505065   Median :0.0000   Median :   540858   Median :32.0  \n",
       " Mean   :  2034138   Mean   :0.3532   Mean   :  2108586   Mean   :33.9  \n",
       " 3rd Qu.:  1357223   3rd Qu.:1.0000   3rd Qu.:  1415761   3rd Qu.:39.0  \n",
       " Max.   :318984324   Max.   :1.0000   Max.   :313252200   Max.   :60.0  \n",
       "    GENDER           IS_DEFAULT       \n",
       " Length:11010       Length:11010      \n",
       " Class :character   Class :character  \n",
       " Mode  :character   Mode  :character  \n",
       "                                      \n",
       "                                      \n",
       "                                      "
      ]
     },
     "metadata": {},
     "output_type": "display_data"
    }
   ],
   "source": [
    "summary(data)"
   ]
  },
  {
   "cell_type": "markdown",
   "metadata": {},
   "source": [
    "### 4. Some Feature Engineering"
   ]
  },
  {
   "cell_type": "markdown",
   "metadata": {},
   "source": [
    "For Logistic regression to learn best we need to control feature variance. For some features we are going to group together values that are closely related together ie. they have minimal variance when sitting together than when in any other different group.\n",
    "\n",
    "We are going to use Jenkspy - a univariate clustering algorithm to help us get the breakpoints. Jenkspy notebook is located in folder called \"more notebooks\""
   ]
  },
  {
   "cell_type": "code",
   "execution_count": 16,
   "metadata": {},
   "outputs": [],
   "source": [
    "# Variance control: Closely related values are grouped together and encoded (1,2,3)\n",
    "\n",
    "var_grps <- function(x){\n",
    "    breaks <- function (y,z){\n",
    "        x <- ifelse(x<=y, 1L, ifelse(x<=z, 2L,3L))\n",
    "    }\n",
    "}"
   ]
  },
  {
   "cell_type": "code",
   "execution_count": 17,
   "metadata": {},
   "outputs": [],
   "source": [
    "# Encoding features based on breakpoints ie. boundary values separating groups \n",
    "# Breakpoints are obtained with assistance of Jenkspy\n",
    "data <- mutate(data, TENURE_MONTH=ifelse(TENURE_MONTH<=7, 1L, ifelse(TENURE_MONTH<=21, 2L,3L)))\n",
    "data <- mutate(data, LOAN_FEE=ifelse(LOAN_FEE<=4.7, 1L, ifelse(LOAN_FEE<=8.5, 2L,3L)))\n",
    "data <- mutate(data, LOAN=ifelse(LOAN<=41836.08, 1L, ifelse(LOAN<=114000, 2L,3L)))\n",
    "data <- mutate(data, MOBILE_TRANSACTIONS=ifelse(MOBILE_TRANSACTIONS<=21, 1L, ifelse(MOBILE_TRANSACTIONS<=69, 2L,3L)))\n",
    "data <- mutate(data, MOBILE_TRANSACTIONS_VALUE=ifelse(MOBILE_TRANSACTIONS_VALUE<=4706000, 1L, ifelse(MOBILE_TRANSACTIONS_VALUE<=25699000, 2L,3L)))\n",
    "data <- mutate(data, MOBILE_SERVICES=ifelse(MOBILE_SERVICES<=2, 1L, ifelse(MOBILE_SERVICES<=4, 2L,3L)))\n",
    "data <- mutate(data, TOTAL_INFLOW=ifelse(TOTAL_INFLOW<=15955375, 1L, ifelse(TOTAL_INFLOW<=71537958, 2L,3L)))\n",
    "data <- mutate(data, TOTAL_OUTFLOW=ifelse(TOTAL_OUTFLOW<=17292151, 1L, ifelse(TOTAL_OUTFLOW<=74902255, 2L,3L)))\n",
    "data <- mutate(data, AGE=ifelse(AGE<=30, 1L, ifelse(AGE<=41, 2L,3L)))"
   ]
  },
  {
   "cell_type": "markdown",
   "metadata": {},
   "source": [
    "#### Encoding some more features"
   ]
  },
  {
   "cell_type": "code",
   "execution_count": 18,
   "metadata": {},
   "outputs": [],
   "source": [
    "# Feature encoding (encoding to either 0 or 1 as integer - boolean would also be fine)\n",
    "\n",
    "encoder <- function(x){\n",
    "    if (x %in% c(\"M\",\"Y\")){\n",
    "        x <- 1L\n",
    "    } else {\n",
    "        x <- 0L\n",
    "    }\n",
    "}"
   ]
  },
  {
   "cell_type": "code",
   "execution_count": 19,
   "metadata": {},
   "outputs": [],
   "source": [
    "# Encoding GENDER and IS_DEFAULT\n",
    "\n",
    "data$GENDER <- sapply(data$GENDER, encoder)\n",
    "data$IS_DEFAULT <- sapply(data$IS_DEFAULT, encoder)"
   ]
  },
  {
   "cell_type": "code",
   "execution_count": 20,
   "metadata": {},
   "outputs": [
    {
     "data": {
      "text/html": [
       "<table class=\"dataframe\">\n",
       "<caption>A data.frame: 5 × 13</caption>\n",
       "<thead>\n",
       "\t<tr><th></th><th scope=col>TENURE_MONTH</th><th scope=col>LOAN_FEE</th><th scope=col>LOAN</th><th scope=col>MOBILE_TRANSACTIONS</th><th scope=col>MOBILE_TRANSACTIONS_VALUE</th><th scope=col>MOBILE_SERVICES</th><th scope=col>APP_USERS</th><th scope=col>TOTAL_INFLOW</th><th scope=col>SALARY_STATUS</th><th scope=col>TOTAL_OUTFLOW</th><th scope=col>AGE</th><th scope=col>GENDER</th><th scope=col>IS_DEFAULT</th></tr>\n",
       "\t<tr><th></th><th scope=col>&lt;int&gt;</th><th scope=col>&lt;int&gt;</th><th scope=col>&lt;int&gt;</th><th scope=col>&lt;int&gt;</th><th scope=col>&lt;int&gt;</th><th scope=col>&lt;int&gt;</th><th scope=col>&lt;int&gt;</th><th scope=col>&lt;int&gt;</th><th scope=col>&lt;int&gt;</th><th scope=col>&lt;int&gt;</th><th scope=col>&lt;int&gt;</th><th scope=col>&lt;int&gt;</th><th scope=col>&lt;int&gt;</th></tr>\n",
       "</thead>\n",
       "<tbody>\n",
       "\t<tr><th scope=row>1</th><td>1</td><td>1</td><td>1</td><td>1</td><td>1</td><td>1</td><td>0</td><td>1</td><td>0</td><td>1</td><td>1</td><td>1</td><td>1</td></tr>\n",
       "\t<tr><th scope=row>2</th><td>2</td><td>3</td><td>1</td><td>1</td><td>1</td><td>2</td><td>0</td><td>1</td><td>0</td><td>1</td><td>2</td><td>1</td><td>0</td></tr>\n",
       "\t<tr><th scope=row>3</th><td>3</td><td>3</td><td>2</td><td>1</td><td>1</td><td>1</td><td>0</td><td>1</td><td>0</td><td>1</td><td>1</td><td>1</td><td>1</td></tr>\n",
       "\t<tr><th scope=row>4</th><td>1</td><td>1</td><td>1</td><td>1</td><td>1</td><td>1</td><td>0</td><td>1</td><td>1</td><td>1</td><td>2</td><td>0</td><td>1</td></tr>\n",
       "\t<tr><th scope=row>5</th><td>2</td><td>3</td><td>2</td><td>2</td><td>1</td><td>3</td><td>0</td><td>1</td><td>1</td><td>1</td><td>2</td><td>0</td><td>0</td></tr>\n",
       "</tbody>\n",
       "</table>\n"
      ],
      "text/latex": [
       "A data.frame: 5 × 13\n",
       "\\begin{tabular}{r|lllllllllllll}\n",
       "  & TENURE\\_MONTH & LOAN\\_FEE & LOAN & MOBILE\\_TRANSACTIONS & MOBILE\\_TRANSACTIONS\\_VALUE & MOBILE\\_SERVICES & APP\\_USERS & TOTAL\\_INFLOW & SALARY\\_STATUS & TOTAL\\_OUTFLOW & AGE & GENDER & IS\\_DEFAULT\\\\\n",
       "  & <int> & <int> & <int> & <int> & <int> & <int> & <int> & <int> & <int> & <int> & <int> & <int> & <int>\\\\\n",
       "\\hline\n",
       "\t1 & 1 & 1 & 1 & 1 & 1 & 1 & 0 & 1 & 0 & 1 & 1 & 1 & 1\\\\\n",
       "\t2 & 2 & 3 & 1 & 1 & 1 & 2 & 0 & 1 & 0 & 1 & 2 & 1 & 0\\\\\n",
       "\t3 & 3 & 3 & 2 & 1 & 1 & 1 & 0 & 1 & 0 & 1 & 1 & 1 & 1\\\\\n",
       "\t4 & 1 & 1 & 1 & 1 & 1 & 1 & 0 & 1 & 1 & 1 & 2 & 0 & 1\\\\\n",
       "\t5 & 2 & 3 & 2 & 2 & 1 & 3 & 0 & 1 & 1 & 1 & 2 & 0 & 0\\\\\n",
       "\\end{tabular}\n"
      ],
      "text/markdown": [
       "\n",
       "A data.frame: 5 × 13\n",
       "\n",
       "| <!--/--> | TENURE_MONTH &lt;int&gt; | LOAN_FEE &lt;int&gt; | LOAN &lt;int&gt; | MOBILE_TRANSACTIONS &lt;int&gt; | MOBILE_TRANSACTIONS_VALUE &lt;int&gt; | MOBILE_SERVICES &lt;int&gt; | APP_USERS &lt;int&gt; | TOTAL_INFLOW &lt;int&gt; | SALARY_STATUS &lt;int&gt; | TOTAL_OUTFLOW &lt;int&gt; | AGE &lt;int&gt; | GENDER &lt;int&gt; | IS_DEFAULT &lt;int&gt; |\n",
       "|---|---|---|---|---|---|---|---|---|---|---|---|---|---|\n",
       "| 1 | 1 | 1 | 1 | 1 | 1 | 1 | 0 | 1 | 0 | 1 | 1 | 1 | 1 |\n",
       "| 2 | 2 | 3 | 1 | 1 | 1 | 2 | 0 | 1 | 0 | 1 | 2 | 1 | 0 |\n",
       "| 3 | 3 | 3 | 2 | 1 | 1 | 1 | 0 | 1 | 0 | 1 | 1 | 1 | 1 |\n",
       "| 4 | 1 | 1 | 1 | 1 | 1 | 1 | 0 | 1 | 1 | 1 | 2 | 0 | 1 |\n",
       "| 5 | 2 | 3 | 2 | 2 | 1 | 3 | 0 | 1 | 1 | 1 | 2 | 0 | 0 |\n",
       "\n"
      ],
      "text/plain": [
       "  TENURE_MONTH LOAN_FEE LOAN MOBILE_TRANSACTIONS MOBILE_TRANSACTIONS_VALUE\n",
       "1 1            1        1    1                   1                        \n",
       "2 2            3        1    1                   1                        \n",
       "3 3            3        2    1                   1                        \n",
       "4 1            1        1    1                   1                        \n",
       "5 2            3        2    2                   1                        \n",
       "  MOBILE_SERVICES APP_USERS TOTAL_INFLOW SALARY_STATUS TOTAL_OUTFLOW AGE GENDER\n",
       "1 1               0         1            0             1             1   1     \n",
       "2 2               0         1            0             1             2   1     \n",
       "3 1               0         1            0             1             1   1     \n",
       "4 1               0         1            1             1             2   0     \n",
       "5 3               0         1            1             1             2   0     \n",
       "  IS_DEFAULT\n",
       "1 1         \n",
       "2 0         \n",
       "3 1         \n",
       "4 1         \n",
       "5 0         "
      ]
     },
     "metadata": {},
     "output_type": "display_data"
    }
   ],
   "source": [
    "head(data,5)"
   ]
  },
  {
   "cell_type": "code",
   "execution_count": 21,
   "metadata": {},
   "outputs": [
    {
     "name": "stdout",
     "output_type": "stream",
     "text": [
      "'data.frame':\t11010 obs. of  13 variables:\n",
      " $ TENURE_MONTH             : int  1 2 3 1 2 3 2 2 2 2 ...\n",
      " $ LOAN_FEE                 : int  1 3 3 1 3 3 2 2 3 2 ...\n",
      " $ LOAN                     : int  1 1 2 1 2 1 1 2 2 2 ...\n",
      " $ MOBILE_TRANSACTIONS      : int  1 1 1 1 2 1 1 3 2 1 ...\n",
      " $ MOBILE_TRANSACTIONS_VALUE: int  1 1 1 1 1 1 1 2 1 1 ...\n",
      " $ MOBILE_SERVICES          : int  1 2 1 1 3 1 1 3 1 2 ...\n",
      " $ APP_USERS                : int  0 0 0 0 0 0 0 0 0 0 ...\n",
      " $ TOTAL_INFLOW             : int  1 1 1 1 1 1 1 1 1 1 ...\n",
      " $ SALARY_STATUS            : int  0 0 0 1 1 1 0 0 1 0 ...\n",
      " $ TOTAL_OUTFLOW            : int  1 1 1 1 1 1 1 1 1 1 ...\n",
      " $ AGE                      : int  1 2 1 2 2 2 1 2 3 1 ...\n",
      " $ GENDER                   : int  1 1 1 0 0 1 1 1 1 1 ...\n",
      " $ IS_DEFAULT               : int  1 0 1 1 0 0 1 0 0 1 ...\n"
     ]
    }
   ],
   "source": [
    "str(data)"
   ]
  },
  {
   "cell_type": "code",
   "execution_count": 22,
   "metadata": {},
   "outputs": [
    {
     "data": {
      "text/html": [
       "0"
      ],
      "text/latex": [
       "0"
      ],
      "text/markdown": [
       "0"
      ],
      "text/plain": [
       "[1] 0"
      ]
     },
     "metadata": {},
     "output_type": "display_data"
    }
   ],
   "source": [
    "# Check for NAs\n",
    "\n",
    "sum(is.na(data)) # there are no nas"
   ]
  },
  {
   "cell_type": "code",
   "execution_count": 23,
   "metadata": {},
   "outputs": [
    {
     "data": {
      "text/plain": [
       "  TENURE_MONTH      LOAN_FEE          LOAN       MOBILE_TRANSACTIONS\n",
       " Min.   :1.000   Min.   :1.000   Min.   :1.000   Min.   :1.000      \n",
       " 1st Qu.:1.000   1st Qu.:1.000   1st Qu.:1.000   1st Qu.:1.000      \n",
       " Median :2.000   Median :3.000   Median :1.000   Median :1.000      \n",
       " Mean   :1.895   Mean   :2.256   Mean   :1.399   Mean   :1.226      \n",
       " 3rd Qu.:2.000   3rd Qu.:3.000   3rd Qu.:2.000   3rd Qu.:1.000      \n",
       " Max.   :3.000   Max.   :3.000   Max.   :3.000   Max.   :3.000      \n",
       " MOBILE_TRANSACTIONS_VALUE MOBILE_SERVICES   APP_USERS       TOTAL_INFLOW  \n",
       " Min.   :1.000             Min.   :1.000   Min.   :0.0000   Min.   :1.000  \n",
       " 1st Qu.:1.000             1st Qu.:1.000   1st Qu.:0.0000   1st Qu.:1.000  \n",
       " Median :1.000             Median :2.000   Median :0.0000   Median :1.000  \n",
       " Mean   :1.027             Mean   :1.681   Mean   :0.1734   Mean   :1.024  \n",
       " 3rd Qu.:1.000             3rd Qu.:2.000   3rd Qu.:0.0000   3rd Qu.:1.000  \n",
       " Max.   :3.000             Max.   :3.000   Max.   :1.0000   Max.   :3.000  \n",
       " SALARY_STATUS    TOTAL_OUTFLOW        AGE           GENDER      \n",
       " Min.   :0.0000   Min.   :1.000   Min.   :1.00   Min.   :0.0000  \n",
       " 1st Qu.:0.0000   1st Qu.:1.000   1st Qu.:1.00   1st Qu.:1.0000  \n",
       " Median :0.0000   Median :1.000   Median :2.00   Median :1.0000  \n",
       " Mean   :0.3532   Mean   :1.023   Mean   :1.78   Mean   :0.7984  \n",
       " 3rd Qu.:1.0000   3rd Qu.:1.000   3rd Qu.:2.00   3rd Qu.:1.0000  \n",
       " Max.   :1.0000   Max.   :3.000   Max.   :3.00   Max.   :1.0000  \n",
       "   IS_DEFAULT    \n",
       " Min.   :0.0000  \n",
       " 1st Qu.:0.0000  \n",
       " Median :1.0000  \n",
       " Mean   :0.5104  \n",
       " 3rd Qu.:1.0000  \n",
       " Max.   :1.0000  "
      ]
     },
     "metadata": {},
     "output_type": "display_data"
    }
   ],
   "source": [
    "# Data is now clean let's check some EDA quickly\n",
    "\n",
    "summary(data)"
   ]
  },
  {
   "cell_type": "code",
   "execution_count": 24,
   "metadata": {},
   "outputs": [
    {
     "data": {
      "text/html": [
       "11010"
      ],
      "text/latex": [
       "11010"
      ],
      "text/markdown": [
       "11010"
      ],
      "text/plain": [
       "[1] 11010"
      ]
     },
     "metadata": {},
     "output_type": "display_data"
    }
   ],
   "source": [
    "# Number of records \n",
    "nrow(data)"
   ]
  },
  {
   "cell_type": "code",
   "execution_count": 25,
   "metadata": {},
   "outputs": [
    {
     "data": {
      "text/html": [
       "13"
      ],
      "text/latex": [
       "13"
      ],
      "text/markdown": [
       "13"
      ],
      "text/plain": [
       "[1] 13"
      ]
     },
     "metadata": {},
     "output_type": "display_data"
    }
   ],
   "source": [
    "# Number of features in the records\n",
    "ncol(data)"
   ]
  },
  {
   "cell_type": "code",
   "execution_count": 26,
   "metadata": {},
   "outputs": [
    {
     "data": {
      "text/plain": [
       "\n",
       "   0    1 \n",
       "5391 5619 "
      ]
     },
     "metadata": {},
     "output_type": "display_data"
    }
   ],
   "source": [
    "# Reconfirming the outcome variable. The split is good.\n",
    "table(data$IS_DEFAULT)"
   ]
  },
  {
   "cell_type": "markdown",
   "metadata": {},
   "source": [
    "### 5. Feature Correlation "
   ]
  },
  {
   "cell_type": "markdown",
   "metadata": {},
   "source": [
    "From the correlation plot <strong> (using Pearson correlation coefficient) </strong> below we can see there exists a relatively weak correlation between any individual independent variable to the outcome variable. <br>\n",
    "\n",
    "Age, Mobile Transactions Value are relatively highly correlated to outcome but again, correlation seems weak. <br>\n",
    "\n",
    "For that case for the model to be able to learn well we might need more data records or more features. When one feature is not discriminative enough, a combination of features can add value to training."
   ]
  },
  {
   "cell_type": "code",
   "execution_count": 27,
   "metadata": {},
   "outputs": [
    {
     "data": {
      "image/png": "[encoded data removed]",
      "text/plain": [
       "plot without title"
      ]
     },
     "metadata": {
      "image/png": {
       "height": 420,
       "width": 420
      }
     },
     "output_type": "display_data"
    }
   ],
   "source": [
    "# Checking Correlation between variables\n",
    "\n",
    "ggcorrplot::ggcorrplot(cor(data))"
   ]
  },
  {
   "cell_type": "markdown",
   "metadata": {},
   "source": [
    "## 6. Preparing Train and Test Data"
   ]
  },
  {
   "cell_type": "code",
   "execution_count": 28,
   "metadata": {},
   "outputs": [],
   "source": [
    "# Preparing the outcome variable\n",
    "\n",
    "data$IS_DEFAULT <- as.factor(data$IS_DEFAULT)"
   ]
  },
  {
   "cell_type": "markdown",
   "metadata": {},
   "source": [
    "We split train and test data 80/20. The split is going to use statified random sampling where in train and test set distribution of the outcome variable is maintained."
   ]
  },
  {
   "cell_type": "code",
   "execution_count": 29,
   "metadata": {},
   "outputs": [],
   "source": [
    "set.seed(300)\n",
    "trainIndex <- createDataPartition(data$IS_DEFAULT, p = 0.8, list = FALSE, times = 1)"
   ]
  },
  {
   "cell_type": "code",
   "execution_count": 30,
   "metadata": {},
   "outputs": [],
   "source": [
    "train <- data[trainIndex,]\n",
    "test <- data[-trainIndex,]"
   ]
  },
  {
   "cell_type": "code",
   "execution_count": 31,
   "metadata": {},
   "outputs": [
    {
     "data": {
      "text/plain": [
       "\n",
       "        0         1 \n",
       "0.4896129 0.5103871 "
      ]
     },
     "metadata": {},
     "output_type": "display_data"
    }
   ],
   "source": [
    "# Verifying distribution of Outcome variable in Train\n",
    "prop.table(table(train$IS_DEFAULT))"
   ]
  },
  {
   "cell_type": "code",
   "execution_count": 32,
   "metadata": {},
   "outputs": [
    {
     "data": {
      "text/plain": [
       "\n",
       "        0         1 \n",
       "0.4897774 0.5102226 "
      ]
     },
     "metadata": {},
     "output_type": "display_data"
    }
   ],
   "source": [
    "# Verifying distribution of Outcome variable in Test\n",
    "prop.table(table(test$IS_DEFAULT))"
   ]
  },
  {
   "cell_type": "markdown",
   "metadata": {},
   "source": [
    "### 7. Fitting out Model"
   ]
  },
  {
   "cell_type": "code",
   "execution_count": 33,
   "metadata": {},
   "outputs": [],
   "source": [
    "model <- glm( IS_DEFAULT ~., data = train, family = binomial)"
   ]
  },
  {
   "cell_type": "code",
   "execution_count": 34,
   "metadata": {},
   "outputs": [
    {
     "data": {
      "text/plain": [
       "\n",
       "Call:\n",
       "glm(formula = IS_DEFAULT ~ ., family = binomial, data = train)\n",
       "\n",
       "Deviance Residuals: \n",
       "   Min      1Q  Median      3Q     Max  \n",
       "-1.521  -1.192   1.077   1.161   1.623  \n",
       "\n",
       "Coefficients:\n",
       "                          Estimate Std. Error z value Pr(>|z|)   \n",
       "(Intercept)                0.24264    0.18657   1.301  0.19342   \n",
       "TENURE_MONTH               0.06310    0.05088   1.240  0.21493   \n",
       "LOAN_FEE                  -0.04295    0.04517  -0.951  0.34173   \n",
       "LOAN                      -0.00807    0.03993  -0.202  0.83985   \n",
       "MOBILE_TRANSACTIONS        0.15658    0.06071   2.579  0.00991 **\n",
       "MOBILE_TRANSACTIONS_VALUE -0.25588    0.14973  -1.709  0.08747 . \n",
       "MOBILE_SERVICES           -0.03359    0.03531  -0.951  0.34143   \n",
       "APP_USERS                 -0.02260    0.06450  -0.350  0.72607   \n",
       "TOTAL_INFLOW              -0.71692    0.39236  -1.827  0.06767 . \n",
       "SALARY_STATUS              0.03793    0.04620   0.821  0.41165   \n",
       "TOTAL_OUTFLOW              0.74463    0.40074   1.858  0.06315 . \n",
       "AGE                       -0.04854    0.02901  -1.673  0.09432 . \n",
       "GENDER                    -0.04400    0.05361  -0.821  0.41179   \n",
       "---\n",
       "Signif. codes:  0 '***' 0.001 '**' 0.01 '*' 0.05 '.' 0.1 ' ' 1\n",
       "\n",
       "(Dispersion parameter for binomial family taken to be 1)\n",
       "\n",
       "    Null deviance: 12208  on 8808  degrees of freedom\n",
       "Residual deviance: 12190  on 8796  degrees of freedom\n",
       "AIC: 12216\n",
       "\n",
       "Number of Fisher Scoring iterations: 3\n"
      ]
     },
     "metadata": {},
     "output_type": "display_data"
    }
   ],
   "source": [
    "summary(model)"
   ]
  },
  {
   "cell_type": "code",
   "execution_count": 35,
   "metadata": {},
   "outputs": [],
   "source": [
    "# Make predictions\n",
    "probabilities <- model %>% predict(test, type = \"response\")\n",
    "predicted.classes <- ifelse(probabilities > 0.5, 1, 0)"
   ]
  },
  {
   "cell_type": "markdown",
   "metadata": {},
   "source": [
    "### Model's accuracy"
   ]
  },
  {
   "cell_type": "code",
   "execution_count": 36,
   "metadata": {},
   "outputs": [
    {
     "data": {
      "text/html": [
       "0.52112676056338"
      ],
      "text/latex": [
       "0.52112676056338"
      ],
      "text/markdown": [
       "0.52112676056338"
      ],
      "text/plain": [
       "[1] 0.5211268"
      ]
     },
     "metadata": {},
     "output_type": "display_data"
    }
   ],
   "source": [
    "# Model accuracy\n",
    "mean(predicted.classes == test$IS_DEFAULT)"
   ]
  },
  {
   "cell_type": "markdown",
   "metadata": {},
   "source": [
    "From above we can see that our model accuracy in making predictions when decision boundary is 0.5 is <strong>52.1%</strong>. To give a picture of accuracy for all possible decision boundaries between 0 and 1 an ROC curve is used and then Area Under Curve will be a better metric to tell of a model's performance."
   ]
  },
  {
   "cell_type": "markdown",
   "metadata": {},
   "source": [
    "#### ROC Curve"
   ]
  },
  {
   "cell_type": "markdown",
   "metadata": {},
   "source": [
    "Area Under Curve for our model is <strong>52.4%</strong>"
   ]
  },
  {
   "cell_type": "code",
   "execution_count": 37,
   "metadata": {},
   "outputs": [
    {
     "name": "stderr",
     "output_type": "stream",
     "text": [
      "Setting levels: control = 0, case = 1\n",
      "\n",
      "Setting direction: controls < cases\n",
      "\n",
      "Setting levels: control = 0, case = 1\n",
      "\n",
      "Setting direction: controls < cases\n",
      "\n"
     ]
    }
   ],
   "source": [
    "#define object to plot and calculate AUC\n",
    "rocobj <- roc(test$IS_DEFAULT, probabilities)\n",
    "auc <- round(auc(test$IS_DEFAULT, probabilities),4)"
   ]
  },
  {
   "cell_type": "code",
   "execution_count": 38,
   "metadata": {},
   "outputs": [
    {
     "data": {
      "image/png": "[encoded data removed]",
      "text/plain": [
       "plot without title"
      ]
     },
     "metadata": {
      "image/png": {
       "height": 420,
       "width": 420
      }
     },
     "output_type": "display_data"
    }
   ],
   "source": [
    "#create ROC plot\n",
    "ggroc(rocobj, colour = 'steelblue', size = 2) +\n",
    "  ggtitle(paste0('ROC Curve ', '(AUC = ', auc, ')'))"
   ]
  },
  {
   "cell_type": "markdown",
   "metadata": {},
   "source": [
    "<strong>Conclusion:</strong> We have been able to train a Logistic Regression model on our dataset and the <strong>model is accurate by 52.1%</strong> with AUC of 52.4% on ROC Curve. \n",
    "\n",
    "To benchmark on this model's performance we train the same dataset on a <strong>Random Forest Model with 600 trees</strong> (a very powerful unsupervised ML model) which achieved an accuracy of <strong>51.5%</strong>"
   ]
  },
  {
   "cell_type": "code",
   "execution_count": null,
   "metadata": {},
   "outputs": [],
   "source": []
  }
 ],
 "metadata": {
  "kernelspec": {
   "display_name": "R",
   "language": "R",
   "name": "ir"
  },
  "language_info": {
   "codemirror_mode": "r",
   "file_extension": ".r",
   "mimetype": "text/x-r-source",
   "name": "R",
   "pygments_lexer": "r",
   "version": "4.1.3"
  }
 },
 "nbformat": 4,
 "nbformat_minor": 2
}
